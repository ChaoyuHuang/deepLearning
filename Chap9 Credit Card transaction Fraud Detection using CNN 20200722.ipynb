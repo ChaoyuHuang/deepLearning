{
 "cells": [
  {
   "cell_type": "markdown",
   "metadata": {},
   "source": [
    "# Created by hcy 20200722 22:11\n",
    "### BackGround: 使用CNN进行信用卡欺诈检测"
   ]
  },
  {
   "cell_type": "code",
   "execution_count": 1,
   "metadata": {
    "ExecuteTime": {
     "end_time": "2020-07-22T14:14:57.106568Z",
     "start_time": "2020-07-22T14:14:55.668251Z"
    }
   },
   "outputs": [
    {
     "name": "stderr",
     "output_type": "stream",
     "text": [
      "E:\\Anaconda5.2\\lib\\importlib\\_bootstrap.py:219: RuntimeWarning: numpy.ufunc size changed, may indicate binary incompatibility. Expected 192 from C header, got 216 from PyObject\n",
      "  return f(*args, **kwds)\n"
     ]
    }
   ],
   "source": [
    "import numpy as np\n",
    "import pandas as pd\n",
    "import tensorflow as tf\n",
    "from tensorflow.keras import Sequential\n",
    "from tensorflow.keras.layers import Flatten, Dense, Dropout, BatchNormalization, Conv1D, MaxPool1D\n",
    "from tensorflow.keras.optimizers import SGD, Adam\n",
    "import matplotlib.pyplot as plt\n",
    "import matplotlib as mpl\n",
    "import seaborn\n",
    "from sklearn.preprocessing import StandardScaler\n",
    "from sklearn.model_selection import train_test_split"
   ]
  },
  {
   "cell_type": "code",
   "execution_count": 2,
   "metadata": {
    "ExecuteTime": {
     "end_time": "2020-07-22T14:18:22.614887Z",
     "start_time": "2020-07-22T14:18:21.051926Z"
    },
    "collapsed": true
   },
   "outputs": [
    {
     "name": "stdout",
     "output_type": "stream",
     "text": [
      "(284807, 31)\n"
     ]
    },
    {
     "data": {
      "text/html": [
       "<div>\n",
       "<style scoped>\n",
       "    .dataframe tbody tr th:only-of-type {\n",
       "        vertical-align: middle;\n",
       "    }\n",
       "\n",
       "    .dataframe tbody tr th {\n",
       "        vertical-align: top;\n",
       "    }\n",
       "\n",
       "    .dataframe thead th {\n",
       "        text-align: right;\n",
       "    }\n",
       "</style>\n",
       "<table border=\"1\" class=\"dataframe\">\n",
       "  <thead>\n",
       "    <tr style=\"text-align: right;\">\n",
       "      <th></th>\n",
       "      <th>Time</th>\n",
       "      <th>V1</th>\n",
       "      <th>V2</th>\n",
       "      <th>V3</th>\n",
       "      <th>V4</th>\n",
       "      <th>V5</th>\n",
       "      <th>V6</th>\n",
       "      <th>V7</th>\n",
       "      <th>V8</th>\n",
       "      <th>V9</th>\n",
       "      <th>V10</th>\n",
       "      <th>V11</th>\n",
       "      <th>V12</th>\n",
       "      <th>V13</th>\n",
       "      <th>V14</th>\n",
       "      <th>V15</th>\n",
       "      <th>V16</th>\n",
       "      <th>V17</th>\n",
       "      <th>V18</th>\n",
       "      <th>V19</th>\n",
       "      <th>V20</th>\n",
       "      <th>V21</th>\n",
       "      <th>V22</th>\n",
       "      <th>V23</th>\n",
       "      <th>V24</th>\n",
       "      <th>V25</th>\n",
       "      <th>V26</th>\n",
       "      <th>V27</th>\n",
       "      <th>V28</th>\n",
       "      <th>Amount</th>\n",
       "      <th>Class</th>\n",
       "    </tr>\n",
       "  </thead>\n",
       "  <tbody>\n",
       "    <tr>\n",
       "      <th>0</th>\n",
       "      <td>0.0</td>\n",
       "      <td>-1.359807</td>\n",
       "      <td>-0.072781</td>\n",
       "      <td>2.536347</td>\n",
       "      <td>1.378155</td>\n",
       "      <td>-0.338321</td>\n",
       "      <td>0.462388</td>\n",
       "      <td>0.239599</td>\n",
       "      <td>0.098698</td>\n",
       "      <td>0.363787</td>\n",
       "      <td>0.090794</td>\n",
       "      <td>-0.551600</td>\n",
       "      <td>-0.617801</td>\n",
       "      <td>-0.991390</td>\n",
       "      <td>-0.311169</td>\n",
       "      <td>1.468177</td>\n",
       "      <td>-0.470401</td>\n",
       "      <td>0.207971</td>\n",
       "      <td>0.025791</td>\n",
       "      <td>0.403993</td>\n",
       "      <td>0.251412</td>\n",
       "      <td>-0.018307</td>\n",
       "      <td>0.277838</td>\n",
       "      <td>-0.110474</td>\n",
       "      <td>0.066928</td>\n",
       "      <td>0.128539</td>\n",
       "      <td>-0.189115</td>\n",
       "      <td>0.133558</td>\n",
       "      <td>-0.021053</td>\n",
       "      <td>149.62</td>\n",
       "      <td>0</td>\n",
       "    </tr>\n",
       "    <tr>\n",
       "      <th>1</th>\n",
       "      <td>0.0</td>\n",
       "      <td>1.191857</td>\n",
       "      <td>0.266151</td>\n",
       "      <td>0.166480</td>\n",
       "      <td>0.448154</td>\n",
       "      <td>0.060018</td>\n",
       "      <td>-0.082361</td>\n",
       "      <td>-0.078803</td>\n",
       "      <td>0.085102</td>\n",
       "      <td>-0.255425</td>\n",
       "      <td>-0.166974</td>\n",
       "      <td>1.612727</td>\n",
       "      <td>1.065235</td>\n",
       "      <td>0.489095</td>\n",
       "      <td>-0.143772</td>\n",
       "      <td>0.635558</td>\n",
       "      <td>0.463917</td>\n",
       "      <td>-0.114805</td>\n",
       "      <td>-0.183361</td>\n",
       "      <td>-0.145783</td>\n",
       "      <td>-0.069083</td>\n",
       "      <td>-0.225775</td>\n",
       "      <td>-0.638672</td>\n",
       "      <td>0.101288</td>\n",
       "      <td>-0.339846</td>\n",
       "      <td>0.167170</td>\n",
       "      <td>0.125895</td>\n",
       "      <td>-0.008983</td>\n",
       "      <td>0.014724</td>\n",
       "      <td>2.69</td>\n",
       "      <td>0</td>\n",
       "    </tr>\n",
       "    <tr>\n",
       "      <th>2</th>\n",
       "      <td>1.0</td>\n",
       "      <td>-1.358354</td>\n",
       "      <td>-1.340163</td>\n",
       "      <td>1.773209</td>\n",
       "      <td>0.379780</td>\n",
       "      <td>-0.503198</td>\n",
       "      <td>1.800499</td>\n",
       "      <td>0.791461</td>\n",
       "      <td>0.247676</td>\n",
       "      <td>-1.514654</td>\n",
       "      <td>0.207643</td>\n",
       "      <td>0.624501</td>\n",
       "      <td>0.066084</td>\n",
       "      <td>0.717293</td>\n",
       "      <td>-0.165946</td>\n",
       "      <td>2.345865</td>\n",
       "      <td>-2.890083</td>\n",
       "      <td>1.109969</td>\n",
       "      <td>-0.121359</td>\n",
       "      <td>-2.261857</td>\n",
       "      <td>0.524980</td>\n",
       "      <td>0.247998</td>\n",
       "      <td>0.771679</td>\n",
       "      <td>0.909412</td>\n",
       "      <td>-0.689281</td>\n",
       "      <td>-0.327642</td>\n",
       "      <td>-0.139097</td>\n",
       "      <td>-0.055353</td>\n",
       "      <td>-0.059752</td>\n",
       "      <td>378.66</td>\n",
       "      <td>0</td>\n",
       "    </tr>\n",
       "    <tr>\n",
       "      <th>3</th>\n",
       "      <td>1.0</td>\n",
       "      <td>-0.966272</td>\n",
       "      <td>-0.185226</td>\n",
       "      <td>1.792993</td>\n",
       "      <td>-0.863291</td>\n",
       "      <td>-0.010309</td>\n",
       "      <td>1.247203</td>\n",
       "      <td>0.237609</td>\n",
       "      <td>0.377436</td>\n",
       "      <td>-1.387024</td>\n",
       "      <td>-0.054952</td>\n",
       "      <td>-0.226487</td>\n",
       "      <td>0.178228</td>\n",
       "      <td>0.507757</td>\n",
       "      <td>-0.287924</td>\n",
       "      <td>-0.631418</td>\n",
       "      <td>-1.059647</td>\n",
       "      <td>-0.684093</td>\n",
       "      <td>1.965775</td>\n",
       "      <td>-1.232622</td>\n",
       "      <td>-0.208038</td>\n",
       "      <td>-0.108300</td>\n",
       "      <td>0.005274</td>\n",
       "      <td>-0.190321</td>\n",
       "      <td>-1.175575</td>\n",
       "      <td>0.647376</td>\n",
       "      <td>-0.221929</td>\n",
       "      <td>0.062723</td>\n",
       "      <td>0.061458</td>\n",
       "      <td>123.50</td>\n",
       "      <td>0</td>\n",
       "    </tr>\n",
       "    <tr>\n",
       "      <th>4</th>\n",
       "      <td>2.0</td>\n",
       "      <td>-1.158233</td>\n",
       "      <td>0.877737</td>\n",
       "      <td>1.548718</td>\n",
       "      <td>0.403034</td>\n",
       "      <td>-0.407193</td>\n",
       "      <td>0.095921</td>\n",
       "      <td>0.592941</td>\n",
       "      <td>-0.270533</td>\n",
       "      <td>0.817739</td>\n",
       "      <td>0.753074</td>\n",
       "      <td>-0.822843</td>\n",
       "      <td>0.538196</td>\n",
       "      <td>1.345852</td>\n",
       "      <td>-1.119670</td>\n",
       "      <td>0.175121</td>\n",
       "      <td>-0.451449</td>\n",
       "      <td>-0.237033</td>\n",
       "      <td>-0.038195</td>\n",
       "      <td>0.803487</td>\n",
       "      <td>0.408542</td>\n",
       "      <td>-0.009431</td>\n",
       "      <td>0.798278</td>\n",
       "      <td>-0.137458</td>\n",
       "      <td>0.141267</td>\n",
       "      <td>-0.206010</td>\n",
       "      <td>0.502292</td>\n",
       "      <td>0.219422</td>\n",
       "      <td>0.215153</td>\n",
       "      <td>69.99</td>\n",
       "      <td>0</td>\n",
       "    </tr>\n",
       "  </tbody>\n",
       "</table>\n",
       "</div>"
      ],
      "text/plain": [
       "   Time        V1        V2        V3        V4        V5  ...       V25       V26       V27       V28  Amount  Class\n",
       "0   0.0 -1.359807 -0.072781  2.536347  1.378155 -0.338321  ...  0.128539 -0.189115  0.133558 -0.021053  149.62      0\n",
       "1   0.0  1.191857  0.266151  0.166480  0.448154  0.060018  ...  0.167170  0.125895 -0.008983  0.014724    2.69      0\n",
       "2   1.0 -1.358354 -1.340163  1.773209  0.379780 -0.503198  ... -0.327642 -0.139097 -0.055353 -0.059752  378.66      0\n",
       "3   1.0 -0.966272 -0.185226  1.792993 -0.863291 -0.010309  ...  0.647376 -0.221929  0.062723  0.061458  123.50      0\n",
       "4   2.0 -1.158233  0.877737  1.548718  0.403034 -0.407193  ... -0.206010  0.502292  0.219422  0.215153   69.99      0\n",
       "\n",
       "[5 rows x 31 columns]"
      ]
     },
     "execution_count": 2,
     "metadata": {},
     "output_type": "execute_result"
    }
   ],
   "source": [
    "data = pd.read_csv('./creditcard.csv')\n",
    "print(data.shape)\n",
    "data.head()"
   ]
  },
  {
   "cell_type": "code",
   "execution_count": 4,
   "metadata": {
    "ExecuteTime": {
     "end_time": "2020-07-22T14:19:34.826091Z",
     "start_time": "2020-07-22T14:19:34.793151Z"
    }
   },
   "outputs": [
    {
     "data": {
      "text/plain": [
       "pandas.core.series.Series"
      ]
     },
     "execution_count": 4,
     "metadata": {},
     "output_type": "execute_result"
    }
   ],
   "source": [
    "type(data.isnull().sum())"
   ]
  },
  {
   "cell_type": "code",
   "execution_count": 13,
   "metadata": {
    "ExecuteTime": {
     "end_time": "2020-07-22T14:21:13.356936Z",
     "start_time": "2020-07-22T14:21:13.311061Z"
    },
    "collapsed": true
   },
   "outputs": [
    {
     "data": {
      "text/html": [
       "<div>\n",
       "<style scoped>\n",
       "    .dataframe tbody tr th:only-of-type {\n",
       "        vertical-align: middle;\n",
       "    }\n",
       "\n",
       "    .dataframe tbody tr th {\n",
       "        vertical-align: top;\n",
       "    }\n",
       "\n",
       "    .dataframe thead th {\n",
       "        text-align: right;\n",
       "    }\n",
       "</style>\n",
       "<table border=\"1\" class=\"dataframe\">\n",
       "  <thead>\n",
       "    <tr style=\"text-align: right;\">\n",
       "      <th></th>\n",
       "      <th>index</th>\n",
       "      <th>0</th>\n",
       "    </tr>\n",
       "  </thead>\n",
       "  <tbody>\n",
       "    <tr>\n",
       "      <th>0</th>\n",
       "      <td>Time</td>\n",
       "      <td>0</td>\n",
       "    </tr>\n",
       "    <tr>\n",
       "      <th>1</th>\n",
       "      <td>V1</td>\n",
       "      <td>0</td>\n",
       "    </tr>\n",
       "    <tr>\n",
       "      <th>2</th>\n",
       "      <td>V2</td>\n",
       "      <td>0</td>\n",
       "    </tr>\n",
       "    <tr>\n",
       "      <th>3</th>\n",
       "      <td>V3</td>\n",
       "      <td>0</td>\n",
       "    </tr>\n",
       "    <tr>\n",
       "      <th>4</th>\n",
       "      <td>V4</td>\n",
       "      <td>0</td>\n",
       "    </tr>\n",
       "    <tr>\n",
       "      <th>5</th>\n",
       "      <td>V5</td>\n",
       "      <td>0</td>\n",
       "    </tr>\n",
       "    <tr>\n",
       "      <th>6</th>\n",
       "      <td>V6</td>\n",
       "      <td>0</td>\n",
       "    </tr>\n",
       "    <tr>\n",
       "      <th>7</th>\n",
       "      <td>V7</td>\n",
       "      <td>0</td>\n",
       "    </tr>\n",
       "    <tr>\n",
       "      <th>8</th>\n",
       "      <td>V8</td>\n",
       "      <td>0</td>\n",
       "    </tr>\n",
       "    <tr>\n",
       "      <th>9</th>\n",
       "      <td>V9</td>\n",
       "      <td>0</td>\n",
       "    </tr>\n",
       "    <tr>\n",
       "      <th>10</th>\n",
       "      <td>V10</td>\n",
       "      <td>0</td>\n",
       "    </tr>\n",
       "    <tr>\n",
       "      <th>11</th>\n",
       "      <td>V11</td>\n",
       "      <td>0</td>\n",
       "    </tr>\n",
       "    <tr>\n",
       "      <th>12</th>\n",
       "      <td>V12</td>\n",
       "      <td>0</td>\n",
       "    </tr>\n",
       "    <tr>\n",
       "      <th>13</th>\n",
       "      <td>V13</td>\n",
       "      <td>0</td>\n",
       "    </tr>\n",
       "    <tr>\n",
       "      <th>14</th>\n",
       "      <td>V14</td>\n",
       "      <td>0</td>\n",
       "    </tr>\n",
       "    <tr>\n",
       "      <th>15</th>\n",
       "      <td>V15</td>\n",
       "      <td>0</td>\n",
       "    </tr>\n",
       "    <tr>\n",
       "      <th>16</th>\n",
       "      <td>V16</td>\n",
       "      <td>0</td>\n",
       "    </tr>\n",
       "    <tr>\n",
       "      <th>17</th>\n",
       "      <td>V17</td>\n",
       "      <td>0</td>\n",
       "    </tr>\n",
       "    <tr>\n",
       "      <th>18</th>\n",
       "      <td>V18</td>\n",
       "      <td>0</td>\n",
       "    </tr>\n",
       "    <tr>\n",
       "      <th>19</th>\n",
       "      <td>V19</td>\n",
       "      <td>0</td>\n",
       "    </tr>\n",
       "    <tr>\n",
       "      <th>20</th>\n",
       "      <td>V20</td>\n",
       "      <td>0</td>\n",
       "    </tr>\n",
       "    <tr>\n",
       "      <th>21</th>\n",
       "      <td>V21</td>\n",
       "      <td>0</td>\n",
       "    </tr>\n",
       "    <tr>\n",
       "      <th>22</th>\n",
       "      <td>V22</td>\n",
       "      <td>0</td>\n",
       "    </tr>\n",
       "    <tr>\n",
       "      <th>23</th>\n",
       "      <td>V23</td>\n",
       "      <td>0</td>\n",
       "    </tr>\n",
       "    <tr>\n",
       "      <th>24</th>\n",
       "      <td>V24</td>\n",
       "      <td>0</td>\n",
       "    </tr>\n",
       "    <tr>\n",
       "      <th>25</th>\n",
       "      <td>V25</td>\n",
       "      <td>0</td>\n",
       "    </tr>\n",
       "    <tr>\n",
       "      <th>26</th>\n",
       "      <td>V26</td>\n",
       "      <td>0</td>\n",
       "    </tr>\n",
       "    <tr>\n",
       "      <th>27</th>\n",
       "      <td>V27</td>\n",
       "      <td>0</td>\n",
       "    </tr>\n",
       "    <tr>\n",
       "      <th>28</th>\n",
       "      <td>V28</td>\n",
       "      <td>0</td>\n",
       "    </tr>\n",
       "    <tr>\n",
       "      <th>29</th>\n",
       "      <td>Amount</td>\n",
       "      <td>0</td>\n",
       "    </tr>\n",
       "    <tr>\n",
       "      <th>30</th>\n",
       "      <td>Class</td>\n",
       "      <td>0</td>\n",
       "    </tr>\n",
       "  </tbody>\n",
       "</table>\n",
       "</div>"
      ],
      "text/plain": [
       "     index  0\n",
       "0     Time  0\n",
       "1       V1  0\n",
       "2       V2  0\n",
       "3       V3  0\n",
       "4       V4  0\n",
       "5       V5  0\n",
       "6       V6  0\n",
       "7       V7  0\n",
       "8       V8  0\n",
       "9       V9  0\n",
       "10     V10  0\n",
       "11     V11  0\n",
       "12     V12  0\n",
       "13     V13  0\n",
       "14     V14  0\n",
       "15     V15  0\n",
       "16     V16  0\n",
       "17     V17  0\n",
       "18     V18  0\n",
       "19     V19  0\n",
       "20     V20  0\n",
       "21     V21  0\n",
       "22     V22  0\n",
       "23     V23  0\n",
       "24     V24  0\n",
       "25     V25  0\n",
       "26     V26  0\n",
       "27     V27  0\n",
       "28     V28  0\n",
       "29  Amount  0\n",
       "30   Class  0"
      ]
     },
     "execution_count": 13,
     "metadata": {},
     "output_type": "execute_result"
    }
   ],
   "source": [
    "pd.DataFrame(data.isnull().sum().reset_index())"
   ]
  },
  {
   "cell_type": "code",
   "execution_count": 34,
   "metadata": {
    "ExecuteTime": {
     "end_time": "2020-07-22T14:27:43.550431Z",
     "start_time": "2020-07-22T14:27:43.544470Z"
    }
   },
   "outputs": [],
   "source": [
    "def missing_values_percent(df):\n",
    "    aa = pd.DataFrame(df.isnull().sum().reset_index().rename(columns={'index': 'feature', 0: 'cnt'}))\n",
    "    aa['values_percent'] = aa['cnt'] / df.shape[0]\n",
    "    aa = aa[aa['values_percent'] > 0]\n",
    "    if aa.shape[0] > 0:\n",
    "        aa = aa.sort_values(by=['values_percent'], ascending=False)\n",
    "        return aa\n",
    "    else:\n",
    "        return aa"
   ]
  },
  {
   "cell_type": "code",
   "execution_count": 35,
   "metadata": {
    "ExecuteTime": {
     "end_time": "2020-07-22T14:27:46.506354Z",
     "start_time": "2020-07-22T14:27:46.469426Z"
    }
   },
   "outputs": [
    {
     "data": {
      "text/html": [
       "<div>\n",
       "<style scoped>\n",
       "    .dataframe tbody tr th:only-of-type {\n",
       "        vertical-align: middle;\n",
       "    }\n",
       "\n",
       "    .dataframe tbody tr th {\n",
       "        vertical-align: top;\n",
       "    }\n",
       "\n",
       "    .dataframe thead th {\n",
       "        text-align: right;\n",
       "    }\n",
       "</style>\n",
       "<table border=\"1\" class=\"dataframe\">\n",
       "  <thead>\n",
       "    <tr style=\"text-align: right;\">\n",
       "      <th></th>\n",
       "      <th>feature</th>\n",
       "      <th>cnt</th>\n",
       "      <th>values_percent</th>\n",
       "    </tr>\n",
       "  </thead>\n",
       "  <tbody>\n",
       "  </tbody>\n",
       "</table>\n",
       "</div>"
      ],
      "text/plain": [
       "Empty DataFrame\n",
       "Columns: [feature, cnt, values_percent]\n",
       "Index: []"
      ]
     },
     "execution_count": 35,
     "metadata": {},
     "output_type": "execute_result"
    }
   ],
   "source": [
    "missing_values_percent(data)"
   ]
  },
  {
   "cell_type": "markdown",
   "metadata": {},
   "source": [
    "## 缺失值为0"
   ]
  },
  {
   "cell_type": "code",
   "execution_count": 36,
   "metadata": {
    "ExecuteTime": {
     "end_time": "2020-07-22T14:28:10.973556Z",
     "start_time": "2020-07-22T14:28:10.928648Z"
    },
    "collapsed": true
   },
   "outputs": [
    {
     "name": "stdout",
     "output_type": "stream",
     "text": [
      "<class 'pandas.core.frame.DataFrame'>\n",
      "RangeIndex: 284807 entries, 0 to 284806\n",
      "Data columns (total 31 columns):\n",
      " #   Column  Non-Null Count   Dtype  \n",
      "---  ------  --------------   -----  \n",
      " 0   Time    284807 non-null  float64\n",
      " 1   V1      284807 non-null  float64\n",
      " 2   V2      284807 non-null  float64\n",
      " 3   V3      284807 non-null  float64\n",
      " 4   V4      284807 non-null  float64\n",
      " 5   V5      284807 non-null  float64\n",
      " 6   V6      284807 non-null  float64\n",
      " 7   V7      284807 non-null  float64\n",
      " 8   V8      284807 non-null  float64\n",
      " 9   V9      284807 non-null  float64\n",
      " 10  V10     284807 non-null  float64\n",
      " 11  V11     284807 non-null  float64\n",
      " 12  V12     284807 non-null  float64\n",
      " 13  V13     284807 non-null  float64\n",
      " 14  V14     284807 non-null  float64\n",
      " 15  V15     284807 non-null  float64\n",
      " 16  V16     284807 non-null  float64\n",
      " 17  V17     284807 non-null  float64\n",
      " 18  V18     284807 non-null  float64\n",
      " 19  V19     284807 non-null  float64\n",
      " 20  V20     284807 non-null  float64\n",
      " 21  V21     284807 non-null  float64\n",
      " 22  V22     284807 non-null  float64\n",
      " 23  V23     284807 non-null  float64\n",
      " 24  V24     284807 non-null  float64\n",
      " 25  V25     284807 non-null  float64\n",
      " 26  V26     284807 non-null  float64\n",
      " 27  V27     284807 non-null  float64\n",
      " 28  V28     284807 non-null  float64\n",
      " 29  Amount  284807 non-null  float64\n",
      " 30  Class   284807 non-null  int64  \n",
      "dtypes: float64(30), int64(1)\n",
      "memory usage: 67.4 MB\n"
     ]
    }
   ],
   "source": [
    "data.info()"
   ]
  },
  {
   "cell_type": "code",
   "execution_count": 37,
   "metadata": {
    "ExecuteTime": {
     "end_time": "2020-07-22T14:28:39.415230Z",
     "start_time": "2020-07-22T14:28:39.399278Z"
    }
   },
   "outputs": [
    {
     "data": {
      "text/plain": [
       "0    284315\n",
       "1       492\n",
       "Name: Class, dtype: int64"
      ]
     },
     "execution_count": 37,
     "metadata": {},
     "output_type": "execute_result"
    }
   ],
   "source": [
    "data['Class'].value_counts()"
   ]
  },
  {
   "cell_type": "code",
   "execution_count": 38,
   "metadata": {
    "ExecuteTime": {
     "end_time": "2020-07-22T14:28:49.635544Z",
     "start_time": "2020-07-22T14:28:49.631526Z"
    }
   },
   "outputs": [
    {
     "data": {
      "text/plain": [
       "577.8760162601626"
      ]
     },
     "execution_count": 38,
     "metadata": {},
     "output_type": "execute_result"
    }
   ],
   "source": [
    "284315 / 492"
   ]
  },
  {
   "cell_type": "markdown",
   "metadata": {},
   "source": [
    "## 数据集及不平衡"
   ]
  },
  {
   "cell_type": "markdown",
   "metadata": {},
   "source": [
    "## Balance DataSet"
   ]
  },
  {
   "cell_type": "code",
   "execution_count": 39,
   "metadata": {
    "ExecuteTime": {
     "end_time": "2020-07-22T14:29:53.905367Z",
     "start_time": "2020-07-22T14:29:53.845451Z"
    }
   },
   "outputs": [
    {
     "name": "stdout",
     "output_type": "stream",
     "text": [
      "(284315, 31) (492, 31)\n"
     ]
    }
   ],
   "source": [
    "non_fraud = data[data['Class'] == 0]\n",
    "fraud = data[data['Class'] == 1]\n",
    "print(non_fraud.shape, fraud.shape)"
   ]
  },
  {
   "cell_type": "code",
   "execution_count": 40,
   "metadata": {
    "ExecuteTime": {
     "end_time": "2020-07-22T14:31:34.506352Z",
     "start_time": "2020-07-22T14:31:34.474357Z"
    }
   },
   "outputs": [],
   "source": [
    "pd.DataFrame.sample??"
   ]
  },
  {
   "cell_type": "code",
   "execution_count": 43,
   "metadata": {
    "ExecuteTime": {
     "end_time": "2020-07-22T14:33:36.172035Z",
     "start_time": "2020-07-22T14:33:36.168050Z"
    }
   },
   "outputs": [
    {
     "data": {
      "text/plain": [
       "(492, 31)"
      ]
     },
     "execution_count": 43,
     "metadata": {},
     "output_type": "execute_result"
    }
   ],
   "source": [
    "non_fraud = non_fraud.sample(fraud.shape[0])\n",
    "non_fraud.shape"
   ]
  },
  {
   "cell_type": "code",
   "execution_count": 44,
   "metadata": {
    "ExecuteTime": {
     "end_time": "2020-07-22T14:34:39.462315Z",
     "start_time": "2020-07-22T14:34:39.414439Z"
    }
   },
   "outputs": [
    {
     "data": {
      "text/html": [
       "<div>\n",
       "<style scoped>\n",
       "    .dataframe tbody tr th:only-of-type {\n",
       "        vertical-align: middle;\n",
       "    }\n",
       "\n",
       "    .dataframe tbody tr th {\n",
       "        vertical-align: top;\n",
       "    }\n",
       "\n",
       "    .dataframe thead th {\n",
       "        text-align: right;\n",
       "    }\n",
       "</style>\n",
       "<table border=\"1\" class=\"dataframe\">\n",
       "  <thead>\n",
       "    <tr style=\"text-align: right;\">\n",
       "      <th></th>\n",
       "      <th>Time</th>\n",
       "      <th>V1</th>\n",
       "      <th>V2</th>\n",
       "      <th>V3</th>\n",
       "      <th>V4</th>\n",
       "      <th>V5</th>\n",
       "      <th>V6</th>\n",
       "      <th>V7</th>\n",
       "      <th>V8</th>\n",
       "      <th>V9</th>\n",
       "      <th>V10</th>\n",
       "      <th>V11</th>\n",
       "      <th>V12</th>\n",
       "      <th>V13</th>\n",
       "      <th>V14</th>\n",
       "      <th>V15</th>\n",
       "      <th>V16</th>\n",
       "      <th>V17</th>\n",
       "      <th>V18</th>\n",
       "      <th>V19</th>\n",
       "      <th>V20</th>\n",
       "      <th>V21</th>\n",
       "      <th>V22</th>\n",
       "      <th>V23</th>\n",
       "      <th>V24</th>\n",
       "      <th>V25</th>\n",
       "      <th>V26</th>\n",
       "      <th>V27</th>\n",
       "      <th>V28</th>\n",
       "      <th>Amount</th>\n",
       "      <th>Class</th>\n",
       "    </tr>\n",
       "  </thead>\n",
       "  <tbody>\n",
       "    <tr>\n",
       "      <th>0</th>\n",
       "      <td>406.0</td>\n",
       "      <td>-2.312227</td>\n",
       "      <td>1.951992</td>\n",
       "      <td>-1.609851</td>\n",
       "      <td>3.997906</td>\n",
       "      <td>-0.522188</td>\n",
       "      <td>-1.426545</td>\n",
       "      <td>-2.537387</td>\n",
       "      <td>1.391657</td>\n",
       "      <td>-2.770089</td>\n",
       "      <td>-2.772272</td>\n",
       "      <td>3.202033</td>\n",
       "      <td>-2.899907</td>\n",
       "      <td>-0.595222</td>\n",
       "      <td>-4.289254</td>\n",
       "      <td>0.389724</td>\n",
       "      <td>-1.140747</td>\n",
       "      <td>-2.830056</td>\n",
       "      <td>-0.016822</td>\n",
       "      <td>0.416956</td>\n",
       "      <td>0.126911</td>\n",
       "      <td>0.517232</td>\n",
       "      <td>-0.035049</td>\n",
       "      <td>-0.465211</td>\n",
       "      <td>0.320198</td>\n",
       "      <td>0.044519</td>\n",
       "      <td>0.177840</td>\n",
       "      <td>0.261145</td>\n",
       "      <td>-0.143276</td>\n",
       "      <td>0.00</td>\n",
       "      <td>1</td>\n",
       "    </tr>\n",
       "    <tr>\n",
       "      <th>1</th>\n",
       "      <td>472.0</td>\n",
       "      <td>-3.043541</td>\n",
       "      <td>-3.157307</td>\n",
       "      <td>1.088463</td>\n",
       "      <td>2.288644</td>\n",
       "      <td>1.359805</td>\n",
       "      <td>-1.064823</td>\n",
       "      <td>0.325574</td>\n",
       "      <td>-0.067794</td>\n",
       "      <td>-0.270953</td>\n",
       "      <td>-0.838587</td>\n",
       "      <td>-0.414575</td>\n",
       "      <td>-0.503141</td>\n",
       "      <td>0.676502</td>\n",
       "      <td>-1.692029</td>\n",
       "      <td>2.000635</td>\n",
       "      <td>0.666780</td>\n",
       "      <td>0.599717</td>\n",
       "      <td>1.725321</td>\n",
       "      <td>0.283345</td>\n",
       "      <td>2.102339</td>\n",
       "      <td>0.661696</td>\n",
       "      <td>0.435477</td>\n",
       "      <td>1.375966</td>\n",
       "      <td>-0.293803</td>\n",
       "      <td>0.279798</td>\n",
       "      <td>-0.145362</td>\n",
       "      <td>-0.252773</td>\n",
       "      <td>0.035764</td>\n",
       "      <td>529.00</td>\n",
       "      <td>1</td>\n",
       "    </tr>\n",
       "    <tr>\n",
       "      <th>2</th>\n",
       "      <td>4462.0</td>\n",
       "      <td>-2.303350</td>\n",
       "      <td>1.759247</td>\n",
       "      <td>-0.359745</td>\n",
       "      <td>2.330243</td>\n",
       "      <td>-0.821628</td>\n",
       "      <td>-0.075788</td>\n",
       "      <td>0.562320</td>\n",
       "      <td>-0.399147</td>\n",
       "      <td>-0.238253</td>\n",
       "      <td>-1.525412</td>\n",
       "      <td>2.032912</td>\n",
       "      <td>-6.560124</td>\n",
       "      <td>0.022937</td>\n",
       "      <td>-1.470102</td>\n",
       "      <td>-0.698826</td>\n",
       "      <td>-2.282194</td>\n",
       "      <td>-4.781831</td>\n",
       "      <td>-2.615665</td>\n",
       "      <td>-1.334441</td>\n",
       "      <td>-0.430022</td>\n",
       "      <td>-0.294166</td>\n",
       "      <td>-0.932391</td>\n",
       "      <td>0.172726</td>\n",
       "      <td>-0.087330</td>\n",
       "      <td>-0.156114</td>\n",
       "      <td>-0.542628</td>\n",
       "      <td>0.039566</td>\n",
       "      <td>-0.153029</td>\n",
       "      <td>239.93</td>\n",
       "      <td>1</td>\n",
       "    </tr>\n",
       "    <tr>\n",
       "      <th>3</th>\n",
       "      <td>6986.0</td>\n",
       "      <td>-4.397974</td>\n",
       "      <td>1.358367</td>\n",
       "      <td>-2.592844</td>\n",
       "      <td>2.679787</td>\n",
       "      <td>-1.128131</td>\n",
       "      <td>-1.706536</td>\n",
       "      <td>-3.496197</td>\n",
       "      <td>-0.248778</td>\n",
       "      <td>-0.247768</td>\n",
       "      <td>-4.801637</td>\n",
       "      <td>4.895844</td>\n",
       "      <td>-10.912819</td>\n",
       "      <td>0.184372</td>\n",
       "      <td>-6.771097</td>\n",
       "      <td>-0.007326</td>\n",
       "      <td>-7.358083</td>\n",
       "      <td>-12.598419</td>\n",
       "      <td>-5.131549</td>\n",
       "      <td>0.308334</td>\n",
       "      <td>-0.171608</td>\n",
       "      <td>0.573574</td>\n",
       "      <td>0.176968</td>\n",
       "      <td>-0.436207</td>\n",
       "      <td>-0.053502</td>\n",
       "      <td>0.252405</td>\n",
       "      <td>-0.657488</td>\n",
       "      <td>-0.827136</td>\n",
       "      <td>0.849573</td>\n",
       "      <td>59.00</td>\n",
       "      <td>1</td>\n",
       "    </tr>\n",
       "    <tr>\n",
       "      <th>4</th>\n",
       "      <td>7519.0</td>\n",
       "      <td>1.234235</td>\n",
       "      <td>3.019740</td>\n",
       "      <td>-4.304597</td>\n",
       "      <td>4.732795</td>\n",
       "      <td>3.624201</td>\n",
       "      <td>-1.357746</td>\n",
       "      <td>1.713445</td>\n",
       "      <td>-0.496358</td>\n",
       "      <td>-1.282858</td>\n",
       "      <td>-2.447469</td>\n",
       "      <td>2.101344</td>\n",
       "      <td>-4.609628</td>\n",
       "      <td>1.464378</td>\n",
       "      <td>-6.079337</td>\n",
       "      <td>-0.339237</td>\n",
       "      <td>2.581851</td>\n",
       "      <td>6.739384</td>\n",
       "      <td>3.042493</td>\n",
       "      <td>-2.721853</td>\n",
       "      <td>0.009061</td>\n",
       "      <td>-0.379068</td>\n",
       "      <td>-0.704181</td>\n",
       "      <td>-0.656805</td>\n",
       "      <td>-1.632653</td>\n",
       "      <td>1.488901</td>\n",
       "      <td>0.566797</td>\n",
       "      <td>-0.010016</td>\n",
       "      <td>0.146793</td>\n",
       "      <td>1.00</td>\n",
       "      <td>1</td>\n",
       "    </tr>\n",
       "    <tr>\n",
       "      <th>...</th>\n",
       "      <td>...</td>\n",
       "      <td>...</td>\n",
       "      <td>...</td>\n",
       "      <td>...</td>\n",
       "      <td>...</td>\n",
       "      <td>...</td>\n",
       "      <td>...</td>\n",
       "      <td>...</td>\n",
       "      <td>...</td>\n",
       "      <td>...</td>\n",
       "      <td>...</td>\n",
       "      <td>...</td>\n",
       "      <td>...</td>\n",
       "      <td>...</td>\n",
       "      <td>...</td>\n",
       "      <td>...</td>\n",
       "      <td>...</td>\n",
       "      <td>...</td>\n",
       "      <td>...</td>\n",
       "      <td>...</td>\n",
       "      <td>...</td>\n",
       "      <td>...</td>\n",
       "      <td>...</td>\n",
       "      <td>...</td>\n",
       "      <td>...</td>\n",
       "      <td>...</td>\n",
       "      <td>...</td>\n",
       "      <td>...</td>\n",
       "      <td>...</td>\n",
       "      <td>...</td>\n",
       "      <td>...</td>\n",
       "    </tr>\n",
       "    <tr>\n",
       "      <th>979</th>\n",
       "      <td>55996.0</td>\n",
       "      <td>1.179447</td>\n",
       "      <td>0.358758</td>\n",
       "      <td>0.978514</td>\n",
       "      <td>1.357137</td>\n",
       "      <td>-0.738976</td>\n",
       "      <td>-1.030758</td>\n",
       "      <td>-0.024007</td>\n",
       "      <td>-0.180062</td>\n",
       "      <td>0.007455</td>\n",
       "      <td>0.013188</td>\n",
       "      <td>0.191420</td>\n",
       "      <td>0.709449</td>\n",
       "      <td>0.580660</td>\n",
       "      <td>0.132667</td>\n",
       "      <td>0.991602</td>\n",
       "      <td>0.181093</td>\n",
       "      <td>-0.391009</td>\n",
       "      <td>-0.344571</td>\n",
       "      <td>-0.673872</td>\n",
       "      <td>-0.119662</td>\n",
       "      <td>-0.037905</td>\n",
       "      <td>-0.060652</td>\n",
       "      <td>0.094090</td>\n",
       "      <td>0.904090</td>\n",
       "      <td>0.362072</td>\n",
       "      <td>-0.513161</td>\n",
       "      <td>0.039119</td>\n",
       "      <td>0.037821</td>\n",
       "      <td>2.00</td>\n",
       "      <td>0</td>\n",
       "    </tr>\n",
       "    <tr>\n",
       "      <th>980</th>\n",
       "      <td>147207.0</td>\n",
       "      <td>-0.617977</td>\n",
       "      <td>1.121090</td>\n",
       "      <td>0.141068</td>\n",
       "      <td>-1.128888</td>\n",
       "      <td>1.745238</td>\n",
       "      <td>-1.591692</td>\n",
       "      <td>2.284964</td>\n",
       "      <td>-0.735824</td>\n",
       "      <td>-0.808635</td>\n",
       "      <td>-0.871520</td>\n",
       "      <td>-0.968657</td>\n",
       "      <td>-0.466457</td>\n",
       "      <td>-0.751859</td>\n",
       "      <td>0.613898</td>\n",
       "      <td>-0.601621</td>\n",
       "      <td>-0.984966</td>\n",
       "      <td>-0.360582</td>\n",
       "      <td>-0.489960</td>\n",
       "      <td>-0.488037</td>\n",
       "      <td>-0.130544</td>\n",
       "      <td>0.243325</td>\n",
       "      <td>0.909248</td>\n",
       "      <td>-0.912468</td>\n",
       "      <td>-0.014055</td>\n",
       "      <td>1.657699</td>\n",
       "      <td>0.141233</td>\n",
       "      <td>-0.232466</td>\n",
       "      <td>-0.212889</td>\n",
       "      <td>1.00</td>\n",
       "      <td>0</td>\n",
       "    </tr>\n",
       "    <tr>\n",
       "      <th>981</th>\n",
       "      <td>66100.0</td>\n",
       "      <td>-3.061628</td>\n",
       "      <td>2.344753</td>\n",
       "      <td>-1.203676</td>\n",
       "      <td>-1.409890</td>\n",
       "      <td>-1.569914</td>\n",
       "      <td>-0.511128</td>\n",
       "      <td>-1.448280</td>\n",
       "      <td>2.381423</td>\n",
       "      <td>0.279852</td>\n",
       "      <td>-0.555596</td>\n",
       "      <td>-1.845727</td>\n",
       "      <td>-0.027695</td>\n",
       "      <td>-0.819181</td>\n",
       "      <td>1.449767</td>\n",
       "      <td>0.849287</td>\n",
       "      <td>1.207716</td>\n",
       "      <td>0.157074</td>\n",
       "      <td>-0.271611</td>\n",
       "      <td>-0.940039</td>\n",
       "      <td>-0.145699</td>\n",
       "      <td>-0.071986</td>\n",
       "      <td>-0.564691</td>\n",
       "      <td>0.136491</td>\n",
       "      <td>-0.770447</td>\n",
       "      <td>0.047302</td>\n",
       "      <td>0.837283</td>\n",
       "      <td>0.017436</td>\n",
       "      <td>-0.064825</td>\n",
       "      <td>19.99</td>\n",
       "      <td>0</td>\n",
       "    </tr>\n",
       "    <tr>\n",
       "      <th>982</th>\n",
       "      <td>55481.0</td>\n",
       "      <td>0.885458</td>\n",
       "      <td>-0.218163</td>\n",
       "      <td>0.011650</td>\n",
       "      <td>1.256135</td>\n",
       "      <td>0.065318</td>\n",
       "      <td>0.420471</td>\n",
       "      <td>0.149893</td>\n",
       "      <td>0.208574</td>\n",
       "      <td>-0.092570</td>\n",
       "      <td>0.048003</td>\n",
       "      <td>1.360675</td>\n",
       "      <td>0.707178</td>\n",
       "      <td>-1.124965</td>\n",
       "      <td>0.707008</td>\n",
       "      <td>-0.093017</td>\n",
       "      <td>-0.714491</td>\n",
       "      <td>0.254960</td>\n",
       "      <td>-0.717197</td>\n",
       "      <td>-0.595517</td>\n",
       "      <td>-0.042342</td>\n",
       "      <td>0.132621</td>\n",
       "      <td>0.272123</td>\n",
       "      <td>-0.190585</td>\n",
       "      <td>-0.289438</td>\n",
       "      <td>0.588776</td>\n",
       "      <td>-0.228132</td>\n",
       "      <td>0.010967</td>\n",
       "      <td>0.014996</td>\n",
       "      <td>119.06</td>\n",
       "      <td>0</td>\n",
       "    </tr>\n",
       "    <tr>\n",
       "      <th>983</th>\n",
       "      <td>152423.0</td>\n",
       "      <td>-0.366262</td>\n",
       "      <td>-0.986047</td>\n",
       "      <td>0.901108</td>\n",
       "      <td>1.372818</td>\n",
       "      <td>0.699432</td>\n",
       "      <td>-0.388456</td>\n",
       "      <td>-1.140276</td>\n",
       "      <td>0.282921</td>\n",
       "      <td>0.209693</td>\n",
       "      <td>0.489325</td>\n",
       "      <td>0.340477</td>\n",
       "      <td>0.404986</td>\n",
       "      <td>-0.033862</td>\n",
       "      <td>0.168232</td>\n",
       "      <td>0.807770</td>\n",
       "      <td>-0.519738</td>\n",
       "      <td>0.092898</td>\n",
       "      <td>1.190270</td>\n",
       "      <td>2.776273</td>\n",
       "      <td>0.537511</td>\n",
       "      <td>0.494227</td>\n",
       "      <td>1.325263</td>\n",
       "      <td>0.355259</td>\n",
       "      <td>-0.259429</td>\n",
       "      <td>-1.743534</td>\n",
       "      <td>0.790249</td>\n",
       "      <td>0.294093</td>\n",
       "      <td>0.317366</td>\n",
       "      <td>22.99</td>\n",
       "      <td>0</td>\n",
       "    </tr>\n",
       "  </tbody>\n",
       "</table>\n",
       "<p>984 rows × 31 columns</p>\n",
       "</div>"
      ],
      "text/plain": [
       "         Time        V1        V2        V3        V4        V5  ...       V25       V26       V27       V28  Amount  Class\n",
       "0       406.0 -2.312227  1.951992 -1.609851  3.997906 -0.522188  ...  0.044519  0.177840  0.261145 -0.143276    0.00      1\n",
       "1       472.0 -3.043541 -3.157307  1.088463  2.288644  1.359805  ...  0.279798 -0.145362 -0.252773  0.035764  529.00      1\n",
       "2      4462.0 -2.303350  1.759247 -0.359745  2.330243 -0.821628  ... -0.156114 -0.542628  0.039566 -0.153029  239.93      1\n",
       "3      6986.0 -4.397974  1.358367 -2.592844  2.679787 -1.128131  ...  0.252405 -0.657488 -0.827136  0.849573   59.00      1\n",
       "4      7519.0  1.234235  3.019740 -4.304597  4.732795  3.624201  ...  1.488901  0.566797 -0.010016  0.146793    1.00      1\n",
       "..        ...       ...       ...       ...       ...       ...  ...       ...       ...       ...       ...     ...    ...\n",
       "979   55996.0  1.179447  0.358758  0.978514  1.357137 -0.738976  ...  0.362072 -0.513161  0.039119  0.037821    2.00      0\n",
       "980  147207.0 -0.617977  1.121090  0.141068 -1.128888  1.745238  ...  1.657699  0.141233 -0.232466 -0.212889    1.00      0\n",
       "981   66100.0 -3.061628  2.344753 -1.203676 -1.409890 -1.569914  ...  0.047302  0.837283  0.017436 -0.064825   19.99      0\n",
       "982   55481.0  0.885458 -0.218163  0.011650  1.256135  0.065318  ...  0.588776 -0.228132  0.010967  0.014996  119.06      0\n",
       "983  152423.0 -0.366262 -0.986047  0.901108  1.372818  0.699432  ... -1.743534  0.790249  0.294093  0.317366   22.99      0\n",
       "\n",
       "[984 rows x 31 columns]"
      ]
     },
     "execution_count": 44,
     "metadata": {},
     "output_type": "execute_result"
    }
   ],
   "source": [
    "data = fraud.append(non_fraud, ignore_index=True)\n",
    "data"
   ]
  },
  {
   "cell_type": "code",
   "execution_count": 45,
   "metadata": {
    "ExecuteTime": {
     "end_time": "2020-07-22T14:34:53.202281Z",
     "start_time": "2020-07-22T14:34:53.197286Z"
    }
   },
   "outputs": [
    {
     "data": {
      "text/plain": [
       "1    492\n",
       "0    492\n",
       "Name: Class, dtype: int64"
      ]
     },
     "execution_count": 45,
     "metadata": {},
     "output_type": "execute_result"
    }
   ],
   "source": [
    "data.Class.value_counts()"
   ]
  },
  {
   "cell_type": "code",
   "execution_count": 46,
   "metadata": {
    "ExecuteTime": {
     "end_time": "2020-07-22T14:37:22.724275Z",
     "start_time": "2020-07-22T14:37:22.719283Z"
    }
   },
   "outputs": [],
   "source": [
    "X = data.drop(['Class'], axis=1)\n",
    "y = data['Class']"
   ]
  },
  {
   "cell_type": "code",
   "execution_count": 47,
   "metadata": {
    "ExecuteTime": {
     "end_time": "2020-07-22T14:38:18.845736Z",
     "start_time": "2020-07-22T14:38:18.837730Z"
    }
   },
   "outputs": [
    {
     "name": "stdout",
     "output_type": "stream",
     "text": [
      "(787, 30) (197, 30)\n"
     ]
    }
   ],
   "source": [
    "X_train, X_test, y_train, y_test = train_test_split(X, y, test_size=0.2, random_state=0, stratify=y)\n",
    "print(X_train.shape, X_test.shape)"
   ]
  },
  {
   "cell_type": "code",
   "execution_count": 48,
   "metadata": {
    "ExecuteTime": {
     "end_time": "2020-07-22T14:38:51.304421Z",
     "start_time": "2020-07-22T14:38:51.294447Z"
    }
   },
   "outputs": [],
   "source": [
    "scaler = StandardScaler()\n",
    "X_train = scaler.fit_transform(X_train)\n",
    "X_test = scaler.transform(X_test)"
   ]
  },
  {
   "cell_type": "code",
   "execution_count": 49,
   "metadata": {
    "ExecuteTime": {
     "end_time": "2020-07-22T14:39:39.522593Z",
     "start_time": "2020-07-22T14:39:39.518596Z"
    }
   },
   "outputs": [],
   "source": [
    "y_train = y_train.to_numpy()\n",
    "y_test = y_test.to_numpy()"
   ]
  },
  {
   "cell_type": "code",
   "execution_count": 50,
   "metadata": {
    "ExecuteTime": {
     "end_time": "2020-07-22T14:40:46.738344Z",
     "start_time": "2020-07-22T14:40:46.735323Z"
    }
   },
   "outputs": [],
   "source": [
    "X_train = X_train.reshape(X_train.shape[0], X_train.shape[1], 1)\n",
    "X_test = X_test.reshape(X_test.shape[0], X_test.shape[1], 1)"
   ]
  },
  {
   "cell_type": "markdown",
   "metadata": {},
   "source": [
    "## BUILD CNN"
   ]
  },
  {
   "cell_type": "code",
   "execution_count": 67,
   "metadata": {
    "ExecuteTime": {
     "end_time": "2020-07-22T14:49:32.525631Z",
     "start_time": "2020-07-22T14:49:32.343461Z"
    }
   },
   "outputs": [],
   "source": [
    "model = Sequential()\n",
    "model.add(Conv1D(filters=32, kernel_size=2, activation='relu', input_shape=X_train[0].shape))\n",
    "model.add(BatchNormalization())\n",
    "model.add(Dropout(0.2))\n",
    "\n",
    "model.add(Conv1D(filters=64, kernel_size=2, activation='relu'))\n",
    "model.add(BatchNormalization())\n",
    "model.add(Dropout(0.5))\n",
    "\n",
    "model.add(Flatten())\n",
    "model.add(Dense(64, activation='relu'))\n",
    "model.add(Dropout(0.5))\n",
    "\n",
    "model.add(Dense(1, activation='sigmoid'))"
   ]
  },
  {
   "cell_type": "code",
   "execution_count": 68,
   "metadata": {
    "ExecuteTime": {
     "end_time": "2020-07-22T14:49:40.686463Z",
     "start_time": "2020-07-22T14:49:40.681483Z"
    }
   },
   "outputs": [
    {
     "name": "stdout",
     "output_type": "stream",
     "text": [
      "Model: \"sequential_6\"\n",
      "_________________________________________________________________\n",
      "Layer (type)                 Output Shape              Param #   \n",
      "=================================================================\n",
      "conv1d_10 (Conv1D)           (None, 29, 32)            96        \n",
      "_________________________________________________________________\n",
      "batch_normalization_v2_8 (Ba (None, 29, 32)            128       \n",
      "_________________________________________________________________\n",
      "dropout_7 (Dropout)          (None, 29, 32)            0         \n",
      "_________________________________________________________________\n",
      "conv1d_11 (Conv1D)           (None, 28, 64)            4160      \n",
      "_________________________________________________________________\n",
      "batch_normalization_v2_9 (Ba (None, 28, 64)            256       \n",
      "_________________________________________________________________\n",
      "dropout_8 (Dropout)          (None, 28, 64)            0         \n",
      "_________________________________________________________________\n",
      "flatten_1 (Flatten)          (None, 1792)              0         \n",
      "_________________________________________________________________\n",
      "dense (Dense)                (None, 64)                114752    \n",
      "_________________________________________________________________\n",
      "dropout_9 (Dropout)          (None, 64)                0         \n",
      "_________________________________________________________________\n",
      "dense_1 (Dense)              (None, 1)                 65        \n",
      "=================================================================\n",
      "Total params: 119,457\n",
      "Trainable params: 119,265\n",
      "Non-trainable params: 192\n",
      "_________________________________________________________________\n"
     ]
    }
   ],
   "source": [
    "model.summary()"
   ]
  },
  {
   "cell_type": "code",
   "execution_count": 69,
   "metadata": {
    "ExecuteTime": {
     "end_time": "2020-07-22T14:50:52.552868Z",
     "start_time": "2020-07-22T14:50:52.448170Z"
    }
   },
   "outputs": [],
   "source": [
    "model.compile(optimizer=Adam(learning_rate=0.0001), loss='binary_crossentropy', metrics=['accuracy'])"
   ]
  },
  {
   "cell_type": "code",
   "execution_count": 70,
   "metadata": {
    "ExecuteTime": {
     "end_time": "2020-07-22T14:51:51.678063Z",
     "start_time": "2020-07-22T14:51:43.803136Z"
    },
    "collapsed": true
   },
   "outputs": [
    {
     "name": "stdout",
     "output_type": "stream",
     "text": [
      "Train on 787 samples, validate on 197 samples\n",
      "Epoch 1/20\n",
      "787/787 [==============================] - 3s 4ms/sample - loss: 0.7647 - accuracy: 0.7027 - val_loss: 0.6189 - val_accuracy: 0.8680\n",
      "Epoch 2/20\n",
      "787/787 [==============================] - 0s 200us/sample - loss: 0.4579 - accuracy: 0.8196 - val_loss: 0.5715 - val_accuracy: 0.8934\n",
      "Epoch 3/20\n",
      "787/787 [==============================] - 0s 198us/sample - loss: 0.3916 - accuracy: 0.8526 - val_loss: 0.5352 - val_accuracy: 0.8883\n",
      "Epoch 4/20\n",
      "787/787 [==============================] - 0s 193us/sample - loss: 0.3925 - accuracy: 0.8679 - val_loss: 0.4964 - val_accuracy: 0.9137\n",
      "Epoch 5/20\n",
      "787/787 [==============================] - 0s 196us/sample - loss: 0.3490 - accuracy: 0.8755 - val_loss: 0.4727 - val_accuracy: 0.8883\n",
      "Epoch 6/20\n",
      "787/787 [==============================] - 0s 202us/sample - loss: 0.2662 - accuracy: 0.9022 - val_loss: 0.4501 - val_accuracy: 0.8579\n",
      "Epoch 7/20\n",
      "787/787 [==============================] - 0s 197us/sample - loss: 0.3128 - accuracy: 0.8971 - val_loss: 0.4222 - val_accuracy: 0.8629\n",
      "Epoch 8/20\n",
      "787/787 [==============================] - 0s 201us/sample - loss: 0.2624 - accuracy: 0.9098 - val_loss: 0.3948 - val_accuracy: 0.8832\n",
      "Epoch 9/20\n",
      "787/787 [==============================] - 0s 196us/sample - loss: 0.2616 - accuracy: 0.9034 - val_loss: 0.3526 - val_accuracy: 0.9239\n",
      "Epoch 10/20\n",
      "787/787 [==============================] - 0s 219us/sample - loss: 0.2597 - accuracy: 0.9047 - val_loss: 0.3297 - val_accuracy: 0.9289\n",
      "Epoch 11/20\n",
      "787/787 [==============================] - 0s 203us/sample - loss: 0.2489 - accuracy: 0.9047 - val_loss: 0.3052 - val_accuracy: 0.9289\n",
      "Epoch 12/20\n",
      "787/787 [==============================] - 0s 196us/sample - loss: 0.2471 - accuracy: 0.9072 - val_loss: 0.2838 - val_accuracy: 0.9239\n",
      "Epoch 13/20\n",
      "787/787 [==============================] - 0s 194us/sample - loss: 0.2280 - accuracy: 0.9187 - val_loss: 0.2552 - val_accuracy: 0.9188\n",
      "Epoch 14/20\n",
      "787/787 [==============================] - 0s 193us/sample - loss: 0.2198 - accuracy: 0.9225 - val_loss: 0.2415 - val_accuracy: 0.9188\n",
      "Epoch 15/20\n",
      "787/787 [==============================] - 0s 215us/sample - loss: 0.2122 - accuracy: 0.9365 - val_loss: 0.2319 - val_accuracy: 0.9188\n",
      "Epoch 16/20\n",
      "787/787 [==============================] - 0s 200us/sample - loss: 0.2109 - accuracy: 0.9225 - val_loss: 0.2199 - val_accuracy: 0.9188\n",
      "Epoch 17/20\n",
      "787/787 [==============================] - 0s 198us/sample - loss: 0.2057 - accuracy: 0.9250 - val_loss: 0.2092 - val_accuracy: 0.9137\n",
      "Epoch 18/20\n",
      "787/787 [==============================] - 0s 199us/sample - loss: 0.2175 - accuracy: 0.9339 - val_loss: 0.2046 - val_accuracy: 0.9086\n",
      "Epoch 19/20\n",
      "787/787 [==============================] - 0s 198us/sample - loss: 0.1995 - accuracy: 0.9403 - val_loss: 0.1974 - val_accuracy: 0.9137\n",
      "Epoch 20/20\n",
      "787/787 [==============================] - 0s 195us/sample - loss: 0.1840 - accuracy: 0.9276 - val_loss: 0.1931 - val_accuracy: 0.9036\n"
     ]
    }
   ],
   "source": [
    "history = model.fit(X_train, y_train, validation_data=(X_test, y_test), epochs=20, verbose=1)"
   ]
  },
  {
   "cell_type": "code",
   "execution_count": 71,
   "metadata": {
    "ExecuteTime": {
     "end_time": "2020-07-22T14:52:21.603299Z",
     "start_time": "2020-07-22T14:52:21.597315Z"
    }
   },
   "outputs": [],
   "source": [
    "def plot_learningCureve(history):\n",
    "    epoch_range = range(1, 21)\n",
    "    plt.plot(epoch_range, history.history['accuracy'])\n",
    "    plt.plot(epoch_range, history.history['val_accuracy'])\n",
    "    plt.title('Model accuracy')\n",
    "    plt.ylabel('accuracy')\n",
    "    plt.xlabel('Epoch')\n",
    "    plt.legend(['Train', 'Val'], loc='upper left')\n",
    "    plt.show()\n",
    "    \n",
    "    plt.plot(epoch_range, history.history['loss'])\n",
    "    plt.plot(epoch_range, history.history['val_loss'])\n",
    "    plt.title('Model loss')\n",
    "    plt.ylabel('loss')\n",
    "    plt.xlabel('Epoch')\n",
    "    plt.legend(['Train', 'Val'], loc='upper left')\n",
    "    plt.show()"
   ]
  },
  {
   "cell_type": "code",
   "execution_count": 72,
   "metadata": {
    "ExecuteTime": {
     "end_time": "2020-07-22T14:52:26.796551Z",
     "start_time": "2020-07-22T14:52:26.506052Z"
    },
    "collapsed": true
   },
   "outputs": [
    {
     "data": {
      "image/png": "[encoded data removed]",
      "text/plain": [
       "<Figure size 432x288 with 1 Axes>"
      ]
     },
     "metadata": {
      "needs_background": "light"
     },
     "output_type": "display_data"
    },
    {
     "data": {
      "image/png": "[encoded data removed]",
      "text/plain": [
       "<Figure size 432x288 with 1 Axes>"
      ]
     },
     "metadata": {
      "needs_background": "light"
     },
     "output_type": "display_data"
    }
   ],
   "source": [
    "plot_learningCureve(history)"
   ]
  },
  {
   "cell_type": "code",
   "execution_count": 74,
   "metadata": {
    "ExecuteTime": {
     "end_time": "2020-07-22T14:53:07.391462Z",
     "start_time": "2020-07-22T14:53:07.388449Z"
    }
   },
   "outputs": [],
   "source": [
    "from mlxtend.plotting import plot_confusion_matrix\n",
    "from sklearn.metrics import confusion_matrix"
   ]
  },
  {
   "cell_type": "code",
   "execution_count": 78,
   "metadata": {
    "ExecuteTime": {
     "end_time": "2020-07-22T14:54:36.373048Z",
     "start_time": "2020-07-22T14:54:36.295229Z"
    }
   },
   "outputs": [
    {
     "data": {
      "text/plain": [
       "(<Figure size 432x288 with 1 Axes>,\n",
       " <matplotlib.axes._subplots.AxesSubplot at 0x1c9e0038a58>)"
      ]
     },
     "execution_count": 78,
     "metadata": {},
     "output_type": "execute_result"
    },
    {
     "data": {
      "image/png": "[encoded data removed]",
      "text/plain": [
       "<Figure size 432x288 with 1 Axes>"
      ]
     },
     "metadata": {
      "needs_background": "light"
     },
     "output_type": "display_data"
    }
   ],
   "source": [
    "y_pred = model.predict_classes(X_test)\n",
    "mat = confusion_matrix(y_true=y_test, y_pred=y_pred)\n",
    "\n",
    "plot_confusion_matrix(conf_mat=mat)"
   ]
  },
  {
   "cell_type": "code",
   "execution_count": 79,
   "metadata": {
    "ExecuteTime": {
     "end_time": "2020-07-22T14:55:36.556297Z",
     "start_time": "2020-07-22T14:55:36.550277Z"
    }
   },
   "outputs": [
    {
     "data": {
      "text/plain": [
       "0.8469387755102041"
      ]
     },
     "execution_count": 79,
     "metadata": {},
     "output_type": "execute_result"
    }
   ],
   "source": [
    "from sklearn.metrics import recall_score\n",
    "\n",
    "recall_score(y_pred=y_pred, y_true=y_test, pos_label=1)"
   ]
  },
  {
   "cell_type": "code",
   "execution_count": 80,
   "metadata": {
    "ExecuteTime": {
     "end_time": "2020-07-22T14:55:49.587582Z",
     "start_time": "2020-07-22T14:55:49.583565Z"
    }
   },
   "outputs": [
    {
     "data": {
      "text/plain": [
       "0.8469387755102041"
      ]
     },
     "execution_count": 80,
     "metadata": {},
     "output_type": "execute_result"
    }
   ],
   "source": [
    "83 / (83+15)"
   ]
  },
  {
   "cell_type": "code",
   "execution_count": 81,
   "metadata": {
    "ExecuteTime": {
     "end_time": "2020-07-22T15:05:20.561411Z",
     "start_time": "2020-07-22T15:05:20.557442Z"
    }
   },
   "outputs": [
    {
     "name": "stdout",
     "output_type": "stream",
     "text": [
      "(492, 31)\n"
     ]
    }
   ],
   "source": [
    "print(non_fraud.shape)"
   ]
  },
  {
   "cell_type": "code",
   "execution_count": 83,
   "metadata": {
    "ExecuteTime": {
     "end_time": "2020-07-22T15:06:53.472421Z",
     "start_time": "2020-07-22T15:06:53.468404Z"
    }
   },
   "outputs": [
    {
     "data": {
      "text/plain": [
       "array([-1.80927404,  0.03422702,  0.00822127,  0.32087402,  0.49576932,\n",
       "        0.24996258, -0.37763326,  0.06155413,  0.23140456, -0.62429584,\n",
       "        0.02695502,  0.45824157,  0.06033456, -0.52045433, -0.16686338,\n",
       "        0.43609244,  0.27205585,  0.08856344,  0.46787011,  0.07157374,\n",
       "       -0.08819732,  0.07412203, -0.05694665, -0.40715064,  0.64329342,\n",
       "        0.02700634,  0.28347098,  0.15921278, -0.3821715 , -0.4737292 ])"
      ]
     },
     "execution_count": 83,
     "metadata": {},
     "output_type": "execute_result"
    }
   ],
   "source": [
    "data_all_predict = data.drop(columns=['Class'],axis=1)\n",
    "data_all_predict = scaler.transform(data_all_predict)\n",
    "print(data_all_predict.shape)\n",
    "data_all_predict[0]"
   ]
  },
  {
   "cell_type": "code",
   "execution_count": 85,
   "metadata": {
    "ExecuteTime": {
     "end_time": "2020-07-22T15:08:04.069480Z",
     "start_time": "2020-07-22T15:08:04.066512Z"
    }
   },
   "outputs": [],
   "source": [
    "data_all_predict = data_all_predict.reshape(data_all_predict.shape[0], data_all_predict.shape[1], 1)"
   ]
  },
  {
   "cell_type": "code",
   "execution_count": 86,
   "metadata": {
    "ExecuteTime": {
     "end_time": "2020-07-22T15:08:08.906310Z",
     "start_time": "2020-07-22T15:08:08.856463Z"
    },
    "scrolled": true
   },
   "outputs": [],
   "source": [
    "y_pred_all = model.predict_classes(data_all_predict)\n",
    "y_true_all = data['Class'].to_numpy()"
   ]
  },
  {
   "cell_type": "code",
   "execution_count": 87,
   "metadata": {
    "ExecuteTime": {
     "end_time": "2020-07-22T15:10:04.217572Z",
     "start_time": "2020-07-22T15:10:04.146757Z"
    }
   },
   "outputs": [
    {
     "name": "stdout",
     "output_type": "stream",
     "text": [
      "0.9126016260162602\n",
      "0.9420731707317073\n"
     ]
    },
    {
     "data": {
      "text/plain": [
       "(<Figure size 432x288 with 1 Axes>,\n",
       " <matplotlib.axes._subplots.AxesSubplot at 0x1c9e1a754e0>)"
      ]
     },
     "execution_count": 87,
     "metadata": {},
     "output_type": "execute_result"
    },
    {
     "data": {
      "image/png": "[encoded data removed]",
      "text/plain": [
       "<Figure size 432x288 with 1 Axes>"
      ]
     },
     "metadata": {
      "needs_background": "light"
     },
     "output_type": "display_data"
    }
   ],
   "source": [
    "## 坏帐本召回率\n",
    "print(recall_score(y_pred=y_pred_all, y_true=y_true_all, pos_label=1))\n",
    "## 整体的正确率\n",
    "from sklearn.metrics import accuracy_score\n",
    "print(accuracy_score(y_pred=y_pred_all, y_true=y_true_all))\n",
    "\n",
    "## 混淆矩阵\n",
    "mat_all = confusion_matrix(y_pred=y_pred_all, y_true=y_true_all)\n",
    "\n",
    "plot_confusion_matrix(mat_all)"
   ]
  },
  {
   "cell_type": "code",
   "execution_count": 93,
   "metadata": {
    "ExecuteTime": {
     "end_time": "2020-07-22T15:37:03.606023Z",
     "start_time": "2020-07-22T15:37:03.602006Z"
    }
   },
   "outputs": [],
   "source": [
    "from sklearn.metrics import auc, roc_curve"
   ]
  },
  {
   "cell_type": "code",
   "execution_count": 94,
   "metadata": {
    "ExecuteTime": {
     "end_time": "2020-07-22T15:37:58.383232Z",
     "start_time": "2020-07-22T15:37:58.375254Z"
    }
   },
   "outputs": [
    {
     "data": {
      "text/plain": [
       "0.9420731707317074"
      ]
     },
     "execution_count": 94,
     "metadata": {},
     "output_type": "execute_result"
    }
   ],
   "source": [
    "fpr, tpr, thresholds = roc_curve(y_true_all, y_pred_all, pos_label=1)\n",
    "auc(fpr, tpr)"
   ]
  },
  {
   "cell_type": "code",
   "execution_count": 95,
   "metadata": {
    "ExecuteTime": {
     "end_time": "2020-07-22T15:40:29.790110Z",
     "start_time": "2020-07-22T15:40:29.764179Z"
    }
   },
   "outputs": [],
   "source": [
    "confusion_matrix??"
   ]
  },
  {
   "cell_type": "code",
   "execution_count": null,
   "metadata": {},
   "outputs": [],
   "source": []
  }
 ],
 "metadata": {
  "kernelspec": {
   "display_name": "Python 3",
   "language": "python",
   "name": "python3"
  },
  "language_info": {
   "codemirror_mode": {
    "name": "ipython",
    "version": 3
   },
   "file_extension": ".py",
   "mimetype": "text/x-python",
   "name": "python",
   "nbconvert_exporter": "python",
   "pygments_lexer": "ipython3",
   "version": "3.6.5"
  }
 },
 "nbformat": 4,
 "nbformat_minor": 4
}
