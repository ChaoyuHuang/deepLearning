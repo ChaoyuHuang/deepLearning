{
 "cells": [
  {
   "cell_type": "code",
   "execution_count": 1,
   "metadata": {
    "ExecuteTime": {
     "end_time": "2020-07-26T05:35:17.738533Z",
     "start_time": "2020-07-26T05:35:14.550939Z"
    }
   },
   "outputs": [
    {
     "name": "stderr",
     "output_type": "stream",
     "text": [
      "E:\\Anaconda5.2\\lib\\importlib\\_bootstrap.py:219: RuntimeWarning: numpy.ufunc size changed, may indicate binary incompatibility. Expected 192 from C header, got 216 from PyObject\n",
      "  return f(*args, **kwds)\n"
     ]
    }
   ],
   "source": [
    "import numpy as np\n",
    "import matplotlib.pyplot as plt\n",
    "import pandas as pd\n",
    "from sklearn.preprocessing import MinMaxScaler"
   ]
  },
  {
   "cell_type": "code",
   "execution_count": 2,
   "metadata": {
    "ExecuteTime": {
     "end_time": "2020-07-26T05:35:40.489230Z",
     "start_time": "2020-07-26T05:35:40.403249Z"
    }
   },
   "outputs": [
    {
     "name": "stdout",
     "output_type": "stream",
     "text": [
      "(3809, 7)\n"
     ]
    },
    {
     "data": {
      "text/html": [
       "<div>\n",
       "<style scoped>\n",
       "    .dataframe tbody tr th:only-of-type {\n",
       "        vertical-align: middle;\n",
       "    }\n",
       "\n",
       "    .dataframe tbody tr th {\n",
       "        vertical-align: top;\n",
       "    }\n",
       "\n",
       "    .dataframe thead th {\n",
       "        text-align: right;\n",
       "    }\n",
       "</style>\n",
       "<table border=\"1\" class=\"dataframe\">\n",
       "  <thead>\n",
       "    <tr style=\"text-align: right;\">\n",
       "      <th></th>\n",
       "      <th>Date</th>\n",
       "      <th>Open</th>\n",
       "      <th>High</th>\n",
       "      <th>Low</th>\n",
       "      <th>Close</th>\n",
       "      <th>Adj Close</th>\n",
       "      <th>Volume</th>\n",
       "    </tr>\n",
       "  </thead>\n",
       "  <tbody>\n",
       "    <tr>\n",
       "      <th>0</th>\n",
       "      <td>2004-08-19</td>\n",
       "      <td>49.813286</td>\n",
       "      <td>51.835709</td>\n",
       "      <td>47.800831</td>\n",
       "      <td>49.982655</td>\n",
       "      <td>49.982655</td>\n",
       "      <td>44871300</td>\n",
       "    </tr>\n",
       "    <tr>\n",
       "      <th>1</th>\n",
       "      <td>2004-08-20</td>\n",
       "      <td>50.316402</td>\n",
       "      <td>54.336334</td>\n",
       "      <td>50.062355</td>\n",
       "      <td>53.952770</td>\n",
       "      <td>53.952770</td>\n",
       "      <td>22942800</td>\n",
       "    </tr>\n",
       "    <tr>\n",
       "      <th>2</th>\n",
       "      <td>2004-08-23</td>\n",
       "      <td>55.168217</td>\n",
       "      <td>56.528118</td>\n",
       "      <td>54.321388</td>\n",
       "      <td>54.495735</td>\n",
       "      <td>54.495735</td>\n",
       "      <td>18342800</td>\n",
       "    </tr>\n",
       "    <tr>\n",
       "      <th>3</th>\n",
       "      <td>2004-08-24</td>\n",
       "      <td>55.412300</td>\n",
       "      <td>55.591629</td>\n",
       "      <td>51.591621</td>\n",
       "      <td>52.239193</td>\n",
       "      <td>52.239193</td>\n",
       "      <td>15319700</td>\n",
       "    </tr>\n",
       "    <tr>\n",
       "      <th>4</th>\n",
       "      <td>2004-08-25</td>\n",
       "      <td>52.284027</td>\n",
       "      <td>53.798351</td>\n",
       "      <td>51.746044</td>\n",
       "      <td>52.802086</td>\n",
       "      <td>52.802086</td>\n",
       "      <td>9232100</td>\n",
       "    </tr>\n",
       "  </tbody>\n",
       "</table>\n",
       "</div>"
      ],
      "text/plain": [
       "         Date       Open       High        Low      Close  Adj Close    Volume\n",
       "0  2004-08-19  49.813286  51.835709  47.800831  49.982655  49.982655  44871300\n",
       "1  2004-08-20  50.316402  54.336334  50.062355  53.952770  53.952770  22942800\n",
       "2  2004-08-23  55.168217  56.528118  54.321388  54.495735  54.495735  18342800\n",
       "3  2004-08-24  55.412300  55.591629  51.591621  52.239193  52.239193  15319700\n",
       "4  2004-08-25  52.284027  53.798351  51.746044  52.802086  52.802086   9232100"
      ]
     },
     "execution_count": 2,
     "metadata": {},
     "output_type": "execute_result"
    }
   ],
   "source": [
    "data = pd.read_csv('Google-Stock-Price-Prediction-Using-RNN---LSTM-master/GOOG.csv')\n",
    "print(data.shape)\n",
    "data.head()"
   ]
  },
  {
   "cell_type": "code",
   "execution_count": 3,
   "metadata": {
    "ExecuteTime": {
     "end_time": "2020-07-26T05:36:56.559775Z",
     "start_time": "2020-07-26T05:36:56.538835Z"
    }
   },
   "outputs": [],
   "source": [
    "data_training = data[data['Date'] < '2019-01-01'].copy()\n",
    "data_test = data[data['Date'] > '2019-01-01'].copy()"
   ]
  },
  {
   "cell_type": "code",
   "execution_count": 4,
   "metadata": {
    "ExecuteTime": {
     "end_time": "2020-07-26T05:37:08.203412Z",
     "start_time": "2020-07-26T05:37:08.195402Z"
    }
   },
   "outputs": [
    {
     "name": "stdout",
     "output_type": "stream",
     "text": [
      "(3617, 7) (192, 7)\n"
     ]
    }
   ],
   "source": [
    "print(data_training.shape, data_test.shape)"
   ]
  },
  {
   "cell_type": "code",
   "execution_count": 5,
   "metadata": {
    "ExecuteTime": {
     "end_time": "2020-07-26T05:37:53.002582Z",
     "start_time": "2020-07-26T05:37:52.985627Z"
    }
   },
   "outputs": [
    {
     "data": {
      "text/html": [
       "<div>\n",
       "<style scoped>\n",
       "    .dataframe tbody tr th:only-of-type {\n",
       "        vertical-align: middle;\n",
       "    }\n",
       "\n",
       "    .dataframe tbody tr th {\n",
       "        vertical-align: top;\n",
       "    }\n",
       "\n",
       "    .dataframe thead th {\n",
       "        text-align: right;\n",
       "    }\n",
       "</style>\n",
       "<table border=\"1\" class=\"dataframe\">\n",
       "  <thead>\n",
       "    <tr style=\"text-align: right;\">\n",
       "      <th></th>\n",
       "      <th>Open</th>\n",
       "      <th>High</th>\n",
       "      <th>Low</th>\n",
       "      <th>Close</th>\n",
       "      <th>Volume</th>\n",
       "    </tr>\n",
       "  </thead>\n",
       "  <tbody>\n",
       "    <tr>\n",
       "      <th>3612</th>\n",
       "      <td>973.900024</td>\n",
       "      <td>1003.539978</td>\n",
       "      <td>970.109985</td>\n",
       "      <td>976.219971</td>\n",
       "      <td>1590300</td>\n",
       "    </tr>\n",
       "    <tr>\n",
       "      <th>3613</th>\n",
       "      <td>989.010010</td>\n",
       "      <td>1040.000000</td>\n",
       "      <td>983.000000</td>\n",
       "      <td>1039.459961</td>\n",
       "      <td>2373300</td>\n",
       "    </tr>\n",
       "    <tr>\n",
       "      <th>3614</th>\n",
       "      <td>1017.150024</td>\n",
       "      <td>1043.890015</td>\n",
       "      <td>997.000000</td>\n",
       "      <td>1043.880005</td>\n",
       "      <td>2109800</td>\n",
       "    </tr>\n",
       "    <tr>\n",
       "      <th>3615</th>\n",
       "      <td>1049.619995</td>\n",
       "      <td>1055.560059</td>\n",
       "      <td>1033.099976</td>\n",
       "      <td>1037.079956</td>\n",
       "      <td>1414800</td>\n",
       "    </tr>\n",
       "    <tr>\n",
       "      <th>3616</th>\n",
       "      <td>1050.959961</td>\n",
       "      <td>1052.699951</td>\n",
       "      <td>1023.590027</td>\n",
       "      <td>1035.609985</td>\n",
       "      <td>1493300</td>\n",
       "    </tr>\n",
       "  </tbody>\n",
       "</table>\n",
       "</div>"
      ],
      "text/plain": [
       "             Open         High          Low        Close   Volume\n",
       "3612   973.900024  1003.539978   970.109985   976.219971  1590300\n",
       "3613   989.010010  1040.000000   983.000000  1039.459961  2373300\n",
       "3614  1017.150024  1043.890015   997.000000  1043.880005  2109800\n",
       "3615  1049.619995  1055.560059  1033.099976  1037.079956  1414800\n",
       "3616  1050.959961  1052.699951  1023.590027  1035.609985  1493300"
      ]
     },
     "execution_count": 5,
     "metadata": {},
     "output_type": "execute_result"
    }
   ],
   "source": [
    "data_training = data_training.drop(['Date', 'Adj Close'], axis=1)\n",
    "data_training.tail()"
   ]
  },
  {
   "cell_type": "code",
   "execution_count": 6,
   "metadata": {
    "ExecuteTime": {
     "end_time": "2020-07-26T05:38:34.458632Z",
     "start_time": "2020-07-26T05:38:34.448668Z"
    }
   },
   "outputs": [
    {
     "data": {
      "text/plain": [
       "array([[3.30294890e-04, 9.44785459e-04, 0.00000000e+00, 1.34908021e-04,\n",
       "        5.43577404e-01],\n",
       "       [7.42148227e-04, 2.98909923e-03, 1.88269054e-03, 3.39307537e-03,\n",
       "        2.77885613e-01],\n",
       "       [4.71386886e-03, 4.78092896e-03, 5.42828241e-03, 3.83867225e-03,\n",
       "        2.22150736e-01],\n",
       "       ...,\n",
       "       [7.92197108e-01, 8.11970141e-01, 7.90196475e-01, 8.15799920e-01,\n",
       "        2.54672037e-02],\n",
       "       [8.18777193e-01, 8.21510648e-01, 8.20249255e-01, 8.10219301e-01,\n",
       "        1.70463908e-02],\n",
       "       [8.19874096e-01, 8.19172449e-01, 8.12332341e-01, 8.09012935e-01,\n",
       "        1.79975186e-02]])"
      ]
     },
     "execution_count": 6,
     "metadata": {},
     "output_type": "execute_result"
    }
   ],
   "source": [
    "scaler = MinMaxScaler()\n",
    "data_training = scaler.fit_transform(data_training)\n",
    "data_training"
   ]
  },
  {
   "cell_type": "code",
   "execution_count": 7,
   "metadata": {
    "ExecuteTime": {
     "end_time": "2020-07-26T05:38:46.884600Z",
     "start_time": "2020-07-26T05:38:46.881631Z"
    }
   },
   "outputs": [],
   "source": [
    "X_train = []\n",
    "y_train = []"
   ]
  },
  {
   "cell_type": "code",
   "execution_count": 9,
   "metadata": {
    "ExecuteTime": {
     "end_time": "2020-07-26T05:41:45.977889Z",
     "start_time": "2020-07-26T05:41:45.972909Z"
    }
   },
   "outputs": [
    {
     "data": {
      "text/plain": [
       "0.00033029488966945797"
      ]
     },
     "execution_count": 9,
     "metadata": {},
     "output_type": "execute_result"
    }
   ],
   "source": [
    "data_training[0, 0]"
   ]
  },
  {
   "cell_type": "code",
   "execution_count": 11,
   "metadata": {
    "ExecuteTime": {
     "end_time": "2020-07-26T05:43:54.218448Z",
     "start_time": "2020-07-26T05:43:54.212464Z"
    }
   },
   "outputs": [],
   "source": [
    "## 取前60天的信息。预测第61天的信息\n",
    "for i in range(60, data_training.shape[0]):\n",
    "    X_train.append(data_training[i-60: i])\n",
    "    y_train.append(data_training[i, 0])"
   ]
  },
  {
   "cell_type": "code",
   "execution_count": 19,
   "metadata": {
    "ExecuteTime": {
     "end_time": "2020-07-26T05:48:49.758717Z",
     "start_time": "2020-07-26T05:48:49.749741Z"
    }
   },
   "outputs": [],
   "source": [
    "X_train, y_train = np.array(X_train), np.array(y_train)"
   ]
  },
  {
   "cell_type": "code",
   "execution_count": 22,
   "metadata": {
    "ExecuteTime": {
     "end_time": "2020-07-26T05:50:50.757143Z",
     "start_time": "2020-07-26T05:50:50.753153Z"
    }
   },
   "outputs": [
    {
     "name": "stdout",
     "output_type": "stream",
     "text": [
      "(3557, 60, 5)\n",
      "(3557,)\n"
     ]
    }
   ],
   "source": [
    "print(X_train.shape)\n",
    "print(y_train.shape)"
   ]
  },
  {
   "cell_type": "markdown",
   "metadata": {},
   "source": [
    "### Building LSTM "
   ]
  },
  {
   "cell_type": "code",
   "execution_count": 20,
   "metadata": {
    "ExecuteTime": {
     "end_time": "2020-07-26T05:49:40.640877Z",
     "start_time": "2020-07-26T05:49:40.636888Z"
    }
   },
   "outputs": [],
   "source": [
    "from tensorflow.keras import Sequential\n",
    "from tensorflow.keras.layers import Dense, LSTM, Dropout"
   ]
  },
  {
   "cell_type": "code",
   "execution_count": 23,
   "metadata": {
    "ExecuteTime": {
     "end_time": "2020-07-26T05:52:30.104173Z",
     "start_time": "2020-07-26T05:52:21.551205Z"
    }
   },
   "outputs": [
    {
     "name": "stdout",
     "output_type": "stream",
     "text": [
      "WARNING:tensorflow:<tensorflow.python.keras.layers.recurrent.UnifiedLSTM object at 0x000001A477B822B0>: Note that this layer is not optimized for performance. Please use tf.keras.layers.CuDNNLSTM for better performance on GPU.\n",
      "WARNING:tensorflow:<tensorflow.python.keras.layers.recurrent.UnifiedLSTM object at 0x000001A477CDCE10>: Note that this layer is not optimized for performance. Please use tf.keras.layers.CuDNNLSTM for better performance on GPU.\n",
      "WARNING:tensorflow:<tensorflow.python.keras.layers.recurrent.UnifiedLSTM object at 0x000001A477C7EDD8>: Note that this layer is not optimized for performance. Please use tf.keras.layers.CuDNNLSTM for better performance on GPU.\n",
      "WARNING:tensorflow:<tensorflow.python.keras.layers.recurrent.UnifiedLSTM object at 0x000001A4374D9EF0>: Note that this layer is not optimized for performance. Please use tf.keras.layers.CuDNNLSTM for better performance on GPU.\n"
     ]
    }
   ],
   "source": [
    "regressior = Sequential()\n",
    "\n",
    "regressior.add(LSTM(units=60, activation='relu', return_sequences=True, input_shape=(X_train.shape[1], 5)))\n",
    "regressior.add(Dropout(0.2))\n",
    "\n",
    "regressior.add(LSTM(units=60, activation='relu', return_sequences=True))\n",
    "regressior.add(Dropout(0.2))\n",
    "\n",
    "regressior.add(LSTM(units = 80, activation = 'relu', return_sequences = True))\n",
    "regressior.add(Dropout(0.2))\n",
    "\n",
    "regressior.add(LSTM(units = 120, activation = 'relu'))\n",
    "regressior.add(Dropout(0.2))\n",
    "\n",
    "regressior.add(Dense(units = 1))"
   ]
  },
  {
   "cell_type": "code",
   "execution_count": 24,
   "metadata": {
    "ExecuteTime": {
     "end_time": "2020-07-26T05:52:31.751166Z",
     "start_time": "2020-07-26T05:52:31.745207Z"
    }
   },
   "outputs": [
    {
     "name": "stdout",
     "output_type": "stream",
     "text": [
      "Model: \"sequential\"\n",
      "_________________________________________________________________\n",
      "Layer (type)                 Output Shape              Param #   \n",
      "=================================================================\n",
      "unified_lstm (UnifiedLSTM)   (None, 60, 60)            15840     \n",
      "_________________________________________________________________\n",
      "dropout (Dropout)            (None, 60, 60)            0         \n",
      "_________________________________________________________________\n",
      "unified_lstm_1 (UnifiedLSTM) (None, 60, 60)            29040     \n",
      "_________________________________________________________________\n",
      "dropout_1 (Dropout)          (None, 60, 60)            0         \n",
      "_________________________________________________________________\n",
      "unified_lstm_2 (UnifiedLSTM) (None, 60, 80)            45120     \n",
      "_________________________________________________________________\n",
      "dropout_2 (Dropout)          (None, 60, 80)            0         \n",
      "_________________________________________________________________\n",
      "unified_lstm_3 (UnifiedLSTM) (None, 120)               96480     \n",
      "_________________________________________________________________\n",
      "dropout_3 (Dropout)          (None, 120)               0         \n",
      "_________________________________________________________________\n",
      "dense (Dense)                (None, 1)                 121       \n",
      "=================================================================\n",
      "Total params: 186,601\n",
      "Trainable params: 186,601\n",
      "Non-trainable params: 0\n",
      "_________________________________________________________________\n"
     ]
    }
   ],
   "source": [
    "regressior.summary()"
   ]
  },
  {
   "cell_type": "code",
   "execution_count": 25,
   "metadata": {
    "ExecuteTime": {
     "end_time": "2020-07-26T05:52:32.385339Z",
     "start_time": "2020-07-26T05:52:32.178918Z"
    }
   },
   "outputs": [],
   "source": [
    "regressior.compile(optimizer='adam', loss = 'mean_squared_error')"
   ]
  },
  {
   "cell_type": "code",
   "execution_count": 26,
   "metadata": {
    "ExecuteTime": {
     "end_time": "2020-07-26T08:13:44.477384Z",
     "start_time": "2020-07-26T05:52:32.961854Z"
    }
   },
   "outputs": [
    {
     "name": "stdout",
     "output_type": "stream",
     "text": [
      "Epoch 1/50\n",
      "3557/3557 [==============================] - 175s 49ms/sample - loss: 0.0064\n",
      "Epoch 2/50\n",
      "3557/3557 [==============================] - 169s 48ms/sample - loss: 0.0020\n",
      "Epoch 3/50\n",
      "3557/3557 [==============================] - 169s 47ms/sample - loss: 0.0019\n",
      "Epoch 4/50\n",
      "3557/3557 [==============================] - 169s 47ms/sample - loss: 0.0019\n",
      "Epoch 5/50\n",
      "3557/3557 [==============================] - 169s 47ms/sample - loss: 0.0014\n",
      "Epoch 6/50\n",
      "3557/3557 [==============================] - 168s 47ms/sample - loss: 0.0015\n",
      "Epoch 7/50\n",
      "3557/3557 [==============================] - 169s 47ms/sample - loss: 0.0014\n",
      "Epoch 8/50\n",
      "3557/3557 [==============================] - 169s 47ms/sample - loss: 0.0012\n",
      "Epoch 9/50\n",
      "3557/3557 [==============================] - 169s 48ms/sample - loss: 0.0011\n",
      "Epoch 10/50\n",
      "3557/3557 [==============================] - 169s 48ms/sample - loss: 0.0011\n",
      "Epoch 11/50\n",
      "3557/3557 [==============================] - 169s 48ms/sample - loss: 0.0012\n",
      "Epoch 12/50\n",
      "3557/3557 [==============================] - 169s 48ms/sample - loss: 0.0011\n",
      "Epoch 13/50\n",
      "3557/3557 [==============================] - 169s 48ms/sample - loss: 9.8111e-04\n",
      "Epoch 14/50\n",
      "3557/3557 [==============================] - 169s 47ms/sample - loss: 0.0010\n",
      "Epoch 15/50\n",
      "3557/3557 [==============================] - 169s 48ms/sample - loss: 0.0010\n",
      "Epoch 16/50\n",
      "3557/3557 [==============================] - 169s 48ms/sample - loss: 9.7266e-04\n",
      "Epoch 17/50\n",
      "3557/3557 [==============================] - 169s 47ms/sample - loss: 9.0272e-04\n",
      "Epoch 18/50\n",
      "3557/3557 [==============================] - 169s 48ms/sample - loss: 8.5625e-04\n",
      "Epoch 19/50\n",
      "3557/3557 [==============================] - 169s 47ms/sample - loss: 8.2721e-04\n",
      "Epoch 20/50\n",
      "3557/3557 [==============================] - 169s 47ms/sample - loss: 9.4466e-04\n",
      "Epoch 21/50\n",
      "3557/3557 [==============================] - 169s 48ms/sample - loss: 8.7335e-04\n",
      "Epoch 22/50\n",
      "3557/3557 [==============================] - 169s 48ms/sample - loss: 7.5990e-04\n",
      "Epoch 23/50\n",
      "3557/3557 [==============================] - 169s 47ms/sample - loss: 8.7433e-04\n",
      "Epoch 24/50\n",
      "3557/3557 [==============================] - 170s 48ms/sample - loss: 7.2281e-04\n",
      "Epoch 25/50\n",
      "3557/3557 [==============================] - 170s 48ms/sample - loss: 7.6316e-04\n",
      "Epoch 26/50\n",
      "3557/3557 [==============================] - 170s 48ms/sample - loss: 7.2076e-04\n",
      "Epoch 27/50\n",
      "3557/3557 [==============================] - 170s 48ms/sample - loss: 7.5884e-04\n",
      "Epoch 28/50\n",
      "3557/3557 [==============================] - 170s 48ms/sample - loss: 7.4391e-04\n",
      "Epoch 29/50\n",
      "3557/3557 [==============================] - 170s 48ms/sample - loss: 6.8959e-04\n",
      "Epoch 30/50\n",
      "3557/3557 [==============================] - 170s 48ms/sample - loss: 6.6531e-04\n",
      "Epoch 31/50\n",
      "3557/3557 [==============================] - 170s 48ms/sample - loss: 7.1036e-04\n",
      "Epoch 32/50\n",
      "3557/3557 [==============================] - 170s 48ms/sample - loss: 6.3533e-04\n",
      "Epoch 33/50\n",
      "3557/3557 [==============================] - 170s 48ms/sample - loss: 6.9547e-04\n",
      "Epoch 34/50\n",
      "3557/3557 [==============================] - 169s 48ms/sample - loss: 6.5763e-04\n",
      "Epoch 35/50\n",
      "3557/3557 [==============================] - 169s 48ms/sample - loss: 6.3036e-04\n",
      "Epoch 36/50\n",
      "3557/3557 [==============================] - 170s 48ms/sample - loss: 7.9780e-04\n",
      "Epoch 37/50\n",
      "3557/3557 [==============================] - 169s 48ms/sample - loss: 6.7153e-04\n",
      "Epoch 38/50\n",
      "3557/3557 [==============================] - 169s 48ms/sample - loss: 6.0480e-04\n",
      "Epoch 39/50\n",
      "3557/3557 [==============================] - 169s 48ms/sample - loss: 6.9575e-04\n",
      "Epoch 40/50\n",
      "3557/3557 [==============================] - 169s 48ms/sample - loss: 6.4587e-04\n",
      "Epoch 41/50\n",
      "3557/3557 [==============================] - 169s 48ms/sample - loss: 6.3199e-04\n",
      "Epoch 42/50\n",
      "3557/3557 [==============================] - 169s 48ms/sample - loss: 5.6208e-04\n",
      "Epoch 43/50\n",
      "3557/3557 [==============================] - 169s 48ms/sample - loss: 7.2094e-04\n",
      "Epoch 44/50\n",
      "3557/3557 [==============================] - 170s 48ms/sample - loss: 5.8853e-04\n",
      "Epoch 45/50\n",
      "3557/3557 [==============================] - 169s 48ms/sample - loss: 5.8548e-04\n",
      "Epoch 46/50\n",
      "3557/3557 [==============================] - 169s 48ms/sample - loss: 5.6403e-04\n",
      "Epoch 47/50\n",
      "3557/3557 [==============================] - 169s 48ms/sample - loss: 5.6610e-04\n",
      "Epoch 48/50\n",
      "3557/3557 [==============================] - 169s 47ms/sample - loss: 6.0612e-04\n",
      "Epoch 49/50\n",
      "3557/3557 [==============================] - 169s 48ms/sample - loss: 5.4726e-04\n",
      "Epoch 50/50\n",
      "3557/3557 [==============================] - 169s 48ms/sample - loss: 5.9445e-04\n"
     ]
    },
    {
     "data": {
      "text/plain": [
       "<tensorflow.python.keras.callbacks.History at 0x1a5a5c1d780>"
      ]
     },
     "execution_count": 26,
     "metadata": {},
     "output_type": "execute_result"
    }
   ],
   "source": [
    "regressior.fit(X_train, y_train, epochs=50, batch_size=32)"
   ]
  },
  {
   "cell_type": "markdown",
   "metadata": {},
   "source": [
    "### Prepare test dataset "
   ]
  },
  {
   "cell_type": "code",
   "execution_count": 30,
   "metadata": {
    "ExecuteTime": {
     "end_time": "2020-07-26T11:57:03.505439Z",
     "start_time": "2020-07-26T11:57:03.495492Z"
    }
   },
   "outputs": [
    {
     "data": {
      "text/html": [
       "<div>\n",
       "<style scoped>\n",
       "    .dataframe tbody tr th:only-of-type {\n",
       "        vertical-align: middle;\n",
       "    }\n",
       "\n",
       "    .dataframe tbody tr th {\n",
       "        vertical-align: top;\n",
       "    }\n",
       "\n",
       "    .dataframe thead th {\n",
       "        text-align: right;\n",
       "    }\n",
       "</style>\n",
       "<table border=\"1\" class=\"dataframe\">\n",
       "  <thead>\n",
       "    <tr style=\"text-align: right;\">\n",
       "      <th></th>\n",
       "      <th>Date</th>\n",
       "      <th>Open</th>\n",
       "      <th>High</th>\n",
       "      <th>Low</th>\n",
       "      <th>Close</th>\n",
       "      <th>Adj Close</th>\n",
       "      <th>Volume</th>\n",
       "    </tr>\n",
       "  </thead>\n",
       "  <tbody>\n",
       "    <tr>\n",
       "      <th>3617</th>\n",
       "      <td>2019-01-02</td>\n",
       "      <td>1016.570007</td>\n",
       "      <td>1052.319946</td>\n",
       "      <td>1015.710022</td>\n",
       "      <td>1045.849976</td>\n",
       "      <td>1045.849976</td>\n",
       "      <td>1532600</td>\n",
       "    </tr>\n",
       "    <tr>\n",
       "      <th>3618</th>\n",
       "      <td>2019-01-03</td>\n",
       "      <td>1041.000000</td>\n",
       "      <td>1056.979980</td>\n",
       "      <td>1014.070007</td>\n",
       "      <td>1016.059998</td>\n",
       "      <td>1016.059998</td>\n",
       "      <td>1841100</td>\n",
       "    </tr>\n",
       "    <tr>\n",
       "      <th>3619</th>\n",
       "      <td>2019-01-04</td>\n",
       "      <td>1032.589966</td>\n",
       "      <td>1070.839966</td>\n",
       "      <td>1027.417969</td>\n",
       "      <td>1070.709961</td>\n",
       "      <td>1070.709961</td>\n",
       "      <td>2093900</td>\n",
       "    </tr>\n",
       "    <tr>\n",
       "      <th>3620</th>\n",
       "      <td>2019-01-07</td>\n",
       "      <td>1071.500000</td>\n",
       "      <td>1074.000000</td>\n",
       "      <td>1054.760010</td>\n",
       "      <td>1068.390015</td>\n",
       "      <td>1068.390015</td>\n",
       "      <td>1981900</td>\n",
       "    </tr>\n",
       "    <tr>\n",
       "      <th>3621</th>\n",
       "      <td>2019-01-08</td>\n",
       "      <td>1076.109985</td>\n",
       "      <td>1084.560059</td>\n",
       "      <td>1060.530029</td>\n",
       "      <td>1076.280029</td>\n",
       "      <td>1076.280029</td>\n",
       "      <td>1764900</td>\n",
       "    </tr>\n",
       "  </tbody>\n",
       "</table>\n",
       "</div>"
      ],
      "text/plain": [
       "            Date         Open         High          Low        Close  \\\n",
       "3617  2019-01-02  1016.570007  1052.319946  1015.710022  1045.849976   \n",
       "3618  2019-01-03  1041.000000  1056.979980  1014.070007  1016.059998   \n",
       "3619  2019-01-04  1032.589966  1070.839966  1027.417969  1070.709961   \n",
       "3620  2019-01-07  1071.500000  1074.000000  1054.760010  1068.390015   \n",
       "3621  2019-01-08  1076.109985  1084.560059  1060.530029  1076.280029   \n",
       "\n",
       "        Adj Close   Volume  \n",
       "3617  1045.849976  1532600  \n",
       "3618  1016.059998  1841100  \n",
       "3619  1070.709961  2093900  \n",
       "3620  1068.390015  1981900  \n",
       "3621  1076.280029  1764900  "
      ]
     },
     "execution_count": 30,
     "metadata": {},
     "output_type": "execute_result"
    }
   ],
   "source": [
    "data_test.head(5)"
   ]
  },
  {
   "cell_type": "code",
   "execution_count": 50,
   "metadata": {
    "ExecuteTime": {
     "end_time": "2020-07-26T12:04:40.936549Z",
     "start_time": "2020-07-26T12:04:40.931560Z"
    }
   },
   "outputs": [],
   "source": [
    "past_60_days = data[data['Date'] < '2019-01-01'].tail(60)"
   ]
  },
  {
   "cell_type": "code",
   "execution_count": 65,
   "metadata": {
    "ExecuteTime": {
     "end_time": "2020-07-26T12:07:56.587925Z",
     "start_time": "2020-07-26T12:07:56.576917Z"
    },
    "collapsed": true
   },
   "outputs": [
    {
     "data": {
      "text/html": [
       "<div>\n",
       "<style scoped>\n",
       "    .dataframe tbody tr th:only-of-type {\n",
       "        vertical-align: middle;\n",
       "    }\n",
       "\n",
       "    .dataframe tbody tr th {\n",
       "        vertical-align: top;\n",
       "    }\n",
       "\n",
       "    .dataframe thead th {\n",
       "        text-align: right;\n",
       "    }\n",
       "</style>\n",
       "<table border=\"1\" class=\"dataframe\">\n",
       "  <thead>\n",
       "    <tr style=\"text-align: right;\">\n",
       "      <th></th>\n",
       "      <th>Open</th>\n",
       "      <th>High</th>\n",
       "      <th>Low</th>\n",
       "      <th>Close</th>\n",
       "      <th>Volume</th>\n",
       "    </tr>\n",
       "  </thead>\n",
       "  <tbody>\n",
       "    <tr>\n",
       "      <th>0</th>\n",
       "      <td>1195.329956</td>\n",
       "      <td>1197.510010</td>\n",
       "      <td>1155.576050</td>\n",
       "      <td>1168.189941</td>\n",
       "      <td>2209500</td>\n",
       "    </tr>\n",
       "    <tr>\n",
       "      <th>1</th>\n",
       "      <td>1167.500000</td>\n",
       "      <td>1173.500000</td>\n",
       "      <td>1145.119995</td>\n",
       "      <td>1157.349976</td>\n",
       "      <td>1184300</td>\n",
       "    </tr>\n",
       "    <tr>\n",
       "      <th>2</th>\n",
       "      <td>1150.109985</td>\n",
       "      <td>1168.000000</td>\n",
       "      <td>1127.364014</td>\n",
       "      <td>1148.969971</td>\n",
       "      <td>1932400</td>\n",
       "    </tr>\n",
       "    <tr>\n",
       "      <th>3</th>\n",
       "      <td>1146.150024</td>\n",
       "      <td>1154.349976</td>\n",
       "      <td>1137.572021</td>\n",
       "      <td>1138.819946</td>\n",
       "      <td>1308700</td>\n",
       "    </tr>\n",
       "    <tr>\n",
       "      <th>4</th>\n",
       "      <td>1131.079956</td>\n",
       "      <td>1132.170044</td>\n",
       "      <td>1081.130005</td>\n",
       "      <td>1081.219971</td>\n",
       "      <td>2675700</td>\n",
       "    </tr>\n",
       "    <tr>\n",
       "      <th>5</th>\n",
       "      <td>1072.939941</td>\n",
       "      <td>1106.400024</td>\n",
       "      <td>1068.270020</td>\n",
       "      <td>1079.319946</td>\n",
       "      <td>2949000</td>\n",
       "    </tr>\n",
       "    <tr>\n",
       "      <th>6</th>\n",
       "      <td>1108.000000</td>\n",
       "      <td>1115.000000</td>\n",
       "      <td>1086.401978</td>\n",
       "      <td>1110.079956</td>\n",
       "      <td>2101300</td>\n",
       "    </tr>\n",
       "    <tr>\n",
       "      <th>7</th>\n",
       "      <td>1108.910034</td>\n",
       "      <td>1113.446045</td>\n",
       "      <td>1089.000000</td>\n",
       "      <td>1092.250000</td>\n",
       "      <td>1372400</td>\n",
       "    </tr>\n",
       "    <tr>\n",
       "      <th>8</th>\n",
       "      <td>1104.589966</td>\n",
       "      <td>1124.219971</td>\n",
       "      <td>1102.500000</td>\n",
       "      <td>1121.280029</td>\n",
       "      <td>1928500</td>\n",
       "    </tr>\n",
       "    <tr>\n",
       "      <th>9</th>\n",
       "      <td>1126.459961</td>\n",
       "      <td>1128.989990</td>\n",
       "      <td>1102.189941</td>\n",
       "      <td>1115.689941</td>\n",
       "      <td>1467200</td>\n",
       "    </tr>\n",
       "  </tbody>\n",
       "</table>\n",
       "</div>"
      ],
      "text/plain": [
       "          Open         High          Low        Close   Volume\n",
       "0  1195.329956  1197.510010  1155.576050  1168.189941  2209500\n",
       "1  1167.500000  1173.500000  1145.119995  1157.349976  1184300\n",
       "2  1150.109985  1168.000000  1127.364014  1148.969971  1932400\n",
       "3  1146.150024  1154.349976  1137.572021  1138.819946  1308700\n",
       "4  1131.079956  1132.170044  1081.130005  1081.219971  2675700\n",
       "5  1072.939941  1106.400024  1068.270020  1079.319946  2949000\n",
       "6  1108.000000  1115.000000  1086.401978  1110.079956  2101300\n",
       "7  1108.910034  1113.446045  1089.000000  1092.250000  1372400\n",
       "8  1104.589966  1124.219971  1102.500000  1121.280029  1928500\n",
       "9  1126.459961  1128.989990  1102.189941  1115.689941  1467200"
      ]
     },
     "execution_count": 65,
     "metadata": {},
     "output_type": "execute_result"
    }
   ],
   "source": [
    "df = past_60_days.append(data_test, ignore_index=True)\n",
    "df = df.drop(['Date', 'Adj Close'], axis=1)\n",
    "df.head(10)"
   ]
  },
  {
   "cell_type": "code",
   "execution_count": 66,
   "metadata": {
    "ExecuteTime": {
     "end_time": "2020-07-26T12:08:05.251436Z",
     "start_time": "2020-07-26T12:08:05.243457Z"
    }
   },
   "outputs": [
    {
     "data": {
      "text/plain": [
       "array([[0.93805611, 0.93755773, 0.92220906, 0.91781776, 0.0266752 ],\n",
       "       [0.91527437, 0.91792904, 0.91350452, 0.90892169, 0.01425359],\n",
       "       [0.90103881, 0.91343268, 0.89872289, 0.90204445, 0.02331778],\n",
       "       ...,\n",
       "       [0.93940683, 0.93712442, 0.93529076, 0.9247443 , 0.01947328],\n",
       "       [0.92550693, 0.93064972, 0.92791493, 0.9339358 , 0.01954719],\n",
       "       [0.93524016, 0.94894575, 0.95017564, 0.95130949, 0.01227612]])"
      ]
     },
     "execution_count": 66,
     "metadata": {},
     "output_type": "execute_result"
    }
   ],
   "source": [
    "inputs = scaler.transform(df)\n",
    "inputs"
   ]
  },
  {
   "cell_type": "code",
   "execution_count": 67,
   "metadata": {
    "ExecuteTime": {
     "end_time": "2020-07-26T12:08:11.152991Z",
     "start_time": "2020-07-26T12:08:11.149000Z"
    }
   },
   "outputs": [],
   "source": [
    "X_test = []\n",
    "y_test = []\n",
    "\n",
    "for i in range(60, inputs.shape[0]):\n",
    "    X_test.append(inputs[i-60:i])\n",
    "    y_test.append(inputs[i, 0])"
   ]
  },
  {
   "cell_type": "code",
   "execution_count": 69,
   "metadata": {
    "ExecuteTime": {
     "end_time": "2020-07-26T12:08:36.852798Z",
     "start_time": "2020-07-26T12:08:36.848838Z"
    }
   },
   "outputs": [
    {
     "name": "stdout",
     "output_type": "stream",
     "text": [
      "192 192\n"
     ]
    }
   ],
   "source": [
    "print(len(X_test), len(y_test))"
   ]
  },
  {
   "cell_type": "code",
   "execution_count": 56,
   "metadata": {
    "ExecuteTime": {
     "end_time": "2020-07-26T12:04:49.405114Z",
     "start_time": "2020-07-26T12:04:49.400106Z"
    }
   },
   "outputs": [
    {
     "name": "stdout",
     "output_type": "stream",
     "text": [
      "(192, 60, 5) (192,)\n"
     ]
    }
   ],
   "source": [
    "X_test, y_test = np.array(X_test), np.array(y_test)\n",
    "print(X_test.shape, y_test.shape)"
   ]
  },
  {
   "cell_type": "code",
   "execution_count": 57,
   "metadata": {
    "ExecuteTime": {
     "end_time": "2020-07-26T12:04:52.032868Z",
     "start_time": "2020-07-26T12:04:51.331492Z"
    }
   },
   "outputs": [],
   "source": [
    "y_pred = regressior.predict(X_test)"
   ]
  },
  {
   "cell_type": "code",
   "execution_count": 58,
   "metadata": {
    "ExecuteTime": {
     "end_time": "2020-07-26T12:04:53.393351Z",
     "start_time": "2020-07-26T12:04:53.388341Z"
    }
   },
   "outputs": [
    {
     "data": {
      "text/plain": [
       "0.0008186051270046249"
      ]
     },
     "execution_count": 58,
     "metadata": {},
     "output_type": "execute_result"
    }
   ],
   "source": [
    "scale = scaler.scale_[0]\n",
    "scale"
   ]
  },
  {
   "cell_type": "code",
   "execution_count": 59,
   "metadata": {
    "ExecuteTime": {
     "end_time": "2020-07-26T12:04:53.873564Z",
     "start_time": "2020-07-26T12:04:53.869598Z"
    }
   },
   "outputs": [],
   "source": [
    "## 将预测值映射回原值\n",
    "y_pred = y_pred / scale\n",
    "y_test = y_test / scale"
   ]
  },
  {
   "cell_type": "code",
   "execution_count": 63,
   "metadata": {
    "ExecuteTime": {
     "end_time": "2020-07-26T12:07:13.469096Z",
     "start_time": "2020-07-26T12:07:13.248701Z"
    },
    "collapsed": true
   },
   "outputs": [
    {
     "data": {
      "image/png": "[encoded data removed]",
      "text/plain": [
       "<Figure size 1008x360 with 1 Axes>"
      ]
     },
     "metadata": {
      "needs_background": "light"
     },
     "output_type": "display_data"
    }
   ],
   "source": [
    "# Visualising the results\n",
    "plt.figure(figsize=(14,5))\n",
    "plt.plot(y_test, color = 'red', label = 'Real Google Stock Price')\n",
    "plt.plot(y_pred, color = 'blue', label = 'Predicted Google Stock Price')\n",
    "plt.title('Google Stock Price Prediction')\n",
    "plt.xlabel('Time')\n",
    "plt.ylabel('Google Stock Price')\n",
    "plt.legend()\n",
    "plt.show()"
   ]
  },
  {
   "cell_type": "code",
   "execution_count": null,
   "metadata": {},
   "outputs": [],
   "source": [
    "MinMaxScaler"
   ]
  }
 ],
 "metadata": {
  "kernelspec": {
   "display_name": "Python 3",
   "language": "python",
   "name": "python3"
  },
  "language_info": {
   "codemirror_mode": {
    "name": "ipython",
    "version": 3
   },
   "file_extension": ".py",
   "mimetype": "text/x-python",
   "name": "python",
   "nbconvert_exporter": "python",
   "pygments_lexer": "ipython3",
   "version": "3.6.5"
  }
 },
 "nbformat": 4,
 "nbformat_minor": 4
}
